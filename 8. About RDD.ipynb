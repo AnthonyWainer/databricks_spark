{
 "cells": [
  {
   "cell_type": "markdown",
   "metadata": {},
   "source": [
    "# Question 8"
   ]
  },
  {
   "cell_type": "markdown",
   "metadata": {},
   "source": [
    "Question 8: Which of the following statements are correct with about RDD?\n",
    "\n",
    "B. Optimization of RDD is a Developer responsibility\n",
    "D. RDD cannot infer the schema from existing data loaded into it\n",
    "\n",
    "RDD is a main abstraction for the spark engine, ever underlying work done by spark using RDD only.\n",
    "RDD is a collection of elements which are partitioned across the nodes in the cluster and Spark\n",
    "can run operations in parallel.\n",
    "\n",
    "However, RDD has some limitations.\n",
    "RDD's cannot take advantage of advanced optimization engine and tungsten execution engine.\n",
    "It is a developer responsability to optimize the code written using RDD\n",
    "RDD cannot infer the schema from the data ingested and you have to explicitly specify the same."
   ]
  }
 ],
 "metadata": {
  "kernelspec": {
   "display_name": "Python 3",
   "language": "python",
   "name": "python3"
  },
  "language_info": {
   "codemirror_mode": {
    "name": "ipython",
    "version": 3
   },
   "file_extension": ".py",
   "mimetype": "text/x-python",
   "name": "python",
   "nbconvert_exporter": "python",
   "pygments_lexer": "ipython3",
   "version": "3.6.8"
  }
 },
 "nbformat": 4,
 "nbformat_minor": 4
}
