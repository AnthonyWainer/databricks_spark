{
 "cells": [
  {
   "cell_type": "markdown",
   "metadata": {},
   "source": [
    "# Question 7"
   ]
  },
  {
   "cell_type": "code",
   "execution_count": 1,
   "metadata": {},
   "outputs": [],
   "source": [
    "from pyspark.sql import functions as F\n",
    "from pyspark.sql.types import *\n",
    "from pyspark.sql.session import SparkSession\n",
    "spark = SparkSession.builder.master(\"local[*]\").appName(\"jdbc data sources\").getOrCreate()"
   ]
  },
  {
   "cell_type": "markdown",
   "metadata": {},
   "source": [
    "Question 7: You've been below sample data.\n",
    "You've loaded this data in a DataFrame and filtered it and created a DataFrame named selectedDF"
   ]
  },
  {
   "cell_type": "code",
   "execution_count": 5,
   "metadata": {},
   "outputs": [],
   "source": [
    "pathQ7 = \"tmp/course_q7.csv\"\n",
    "df = spark.read.format(\"csv\").load(pathQ7, inferSchema=True, header=True)"
   ]
  },
  {
   "cell_type": "markdown",
   "metadata": {},
   "source": [
    "What would be the correct schema of the df?"
   ]
  },
  {
   "cell_type": "code",
   "execution_count": 3,
   "metadata": {},
   "outputs": [
    {
     "name": "stdout",
     "output_type": "stream",
     "text": [
      "root\n",
      " |-- sr: integer (nullable = true)\n",
      " |-- plataform_phrase: string (nullable = true)\n",
      " |-- title: string (nullable = true)\n",
      " |-- url: string (nullable = true)\n",
      " |-- release_year: integer (nullable = true)\n",
      " |-- release_month: integer (nullable = true)\n",
      " |-- release_day: integer (nullable = true)\n",
      "\n"
     ]
    }
   ],
   "source": [
    "df.printSchema()"
   ]
  },
  {
   "cell_type": "code",
   "execution_count": 6,
   "metadata": {},
   "outputs": [
    {
     "name": "stdout",
     "output_type": "stream",
     "text": [
      "+------------+---------+\n",
      "|release_year|    title|\n",
      "+------------+---------+\n",
      "|        2018|DATASTACK|\n",
      "|        2018|    AAAAA|\n",
      "+------------+---------+\n",
      "\n"
     ]
    }
   ],
   "source": [
    "df.select(\"release_year\", \"title\").show()"
   ]
  },
  {
   "cell_type": "markdown",
   "metadata": {},
   "source": [
    "Which of the following code snippet will group the based on year and finally succefully save \n",
    "it in csv format only first record of that particular year."
   ]
  },
  {
   "cell_type": "code",
   "execution_count": 12,
   "metadata": {},
   "outputs": [
    {
     "name": "stdout",
     "output_type": "stream",
     "text": [
      "+------------+---------+\n",
      "|release_year|    title|\n",
      "+------------+---------+\n",
      "|        2018|DATASTACK|\n",
      "+------------+---------+\n",
      "\n"
     ]
    }
   ],
   "source": [
    "df.groupBy(\"release_year\").agg(F.first(\"title\").alias(\"title\")).show()"
   ]
  },
  {
   "cell_type": "code",
   "execution_count": 14,
   "metadata": {},
   "outputs": [],
   "source": [
    "dfw = df.groupBy(\"release_year\").agg(F.first(\"title\").alias(\"title\"))\n",
    "dfw.write.format(\"csv\").option(\"header\", True).mode(\"overwrite\").save(\"tmp/out_q7.csv\")"
   ]
  }
 ],
 "metadata": {
  "kernelspec": {
   "display_name": "Python 3",
   "language": "python",
   "name": "python3"
  },
  "language_info": {
   "codemirror_mode": {
    "name": "ipython",
    "version": 3
   },
   "file_extension": ".py",
   "mimetype": "text/x-python",
   "name": "python",
   "nbconvert_exporter": "python",
   "pygments_lexer": "ipython3",
   "version": "3.6.8"
  }
 },
 "nbformat": 4,
 "nbformat_minor": 4
}
