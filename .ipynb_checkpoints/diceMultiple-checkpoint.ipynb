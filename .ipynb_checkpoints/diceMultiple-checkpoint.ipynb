{
 "cells": [
  {
   "cell_type": "code",
   "execution_count": null,
   "metadata": {},
   "outputs": [],
   "source": [
    "import random\n",
    "\n",
    "def getMax(li):\n",
    "    return max(li, key=li.get)\n",
    "\n",
    "def getDice():\n",
    "    return random.randint(1,6)\n",
    "\n",
    "def groupDict(di):\n",
    "    v = {}\n",
    "    for key, value in sorted(di.items()):\n",
    "        v.setdefault(value, []).append(key)\n",
    "    return v"
   ]
  },
  {
   "cell_type": "code",
   "execution_count": null,
   "metadata": {},
   "outputs": [],
   "source": [
    "a = {}\n",
    "\n",
    "a['anthony'] = getDice()\n",
    "a['michlinfa'] = getDice()\n",
    "a[\"milton\"] = getDice()\n",
    "a[\"homeris\"] = getDice()\n",
    "a[\"cintia\"] = getDice()\n",
    "\n",
    "print(a)\n",
    "ndi = groupDict(a)\n",
    "pmax = a[getMax(a)]\n",
    "\n",
    "empates = []\n",
    "for k,v in ndi.items():\n",
    "   if (len(v) >= 2 ):\n",
    "        empates.append(k)\n",
    "        print(\"Hay un empate entre: \", v, \"Con el puntaje: \", k)\n",
    "    \n",
    "if not pmax in empates:\n",
    "    print(\"el ganador es: \", getMax(a), \"Con el puntaje: \", pmax)\n"
   ]
  }
 ],
 "metadata": {
  "kernelspec": {
   "display_name": "Python 3",
   "language": "python",
   "name": "python3"
  },
  "language_info": {
   "codemirror_mode": {
    "name": "ipython",
    "version": 3
   },
   "file_extension": ".py",
   "mimetype": "text/x-python",
   "name": "python",
   "nbconvert_exporter": "python",
   "pygments_lexer": "ipython3",
   "version": "3.6.8"
  }
 },
 "nbformat": 4,
 "nbformat_minor": 4
}
