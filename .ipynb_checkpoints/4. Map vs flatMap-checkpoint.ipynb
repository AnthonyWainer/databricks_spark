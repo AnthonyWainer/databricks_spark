{
 "cells": [
  {
   "cell_type": "markdown",
   "metadata": {},
   "source": [
    "# Question 4"
   ]
  },
  {
   "cell_type": "code",
   "execution_count": 3,
   "metadata": {},
   "outputs": [],
   "source": [
    "from pyspark.sql import functions as F\n",
    "from pyspark.sql.types import *\n",
    "from pyspark.sql.session import SparkSession\n",
    "spark = SparkSession.builder.master(\"local[*]\").appName(\"jdbc data sources\").getOrCreate()"
   ]
  },
  {
   "cell_type": "markdown",
   "metadata": {},
   "source": [
    "## map vs flatMap\n",
    "Both map() and flatMap() are used for transformations. \n",
    "The map() transformation takes in a function and applies it to each element in the RDD \n",
    "and the result of the function is a new value of each element in the resulting RDD.\n",
    "The flatMap() is used to produce multiple output elements for each input element.\n",
    "When using map(), the function we provide to flatMap() is called individually for each element\n",
    "in our input RDD. Instead of returning a single element, an iterator with the return\n",
    "values is returned."
   ]
  },
  {
   "cell_type": "code",
   "execution_count": 4,
   "metadata": {},
   "outputs": [],
   "source": [
    "sc = spark.sparkContext"
   ]
  },
  {
   "cell_type": "markdown",
   "metadata": {},
   "source": [
    "### Question 4: You've been given following content in three different files.\n",
    "which of the followings code snippet does the activity mentioned below?"
   ]
  },
  {
   "cell_type": "code",
   "execution_count": 5,
   "metadata": {},
   "outputs": [],
   "source": [
    "pathQ4 = \"tmp/Quest4/\"\n",
    "linesA = sc.textFile(pathQ4 + \"trainExam4A.txt\")\n",
    "linesB = sc.textFile(pathQ4 + \"trainExam4B.txt\")\n",
    "linesC = sc.textFile(pathQ4 + \"trainExam4C.txt\")"
   ]
  },
  {
   "cell_type": "code",
   "execution_count": null,
   "metadata": {},
   "outputs": [],
   "source": [
    "#linesA.flatMap(lambda line: line.split(\" \")).collect()\n",
    "linesB.flatMap(lambda line: line.split(\" \")).collect()\n",
    "#linesC.flatMap(lambda line: line.split(\" \")).collect()"
   ]
  }
 ],
 "metadata": {
  "kernelspec": {
   "display_name": "Python 3",
   "language": "python",
   "name": "python3"
  },
  "language_info": {
   "codemirror_mode": {
    "name": "ipython",
    "version": 3
   },
   "file_extension": ".py",
   "mimetype": "text/x-python",
   "name": "python",
   "nbconvert_exporter": "python",
   "pygments_lexer": "ipython3",
   "version": "3.6.8"
  }
 },
 "nbformat": 4,
 "nbformat_minor": 4
}
