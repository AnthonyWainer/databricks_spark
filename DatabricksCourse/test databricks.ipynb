{
 "cells": [
  {
   "cell_type": "markdown",
   "metadata": {},
   "source": [
    "# Test exam DataBricks"
   ]
  },
  {
   "cell_type": "code",
   "execution_count": 1,
   "metadata": {},
   "outputs": [],
   "source": [
    "from pyspark.sql import functions as F\n",
    "from pyspark.sql.types import *\n",
    "from pyspark.sql.session import SparkSession\n",
    "spark = SparkSession.builder.master(\"local[*]\").appName(\"jdbc data sources\").getOrCreate()"
   ]
  },
  {
   "cell_type": "markdown",
   "metadata": {},
   "source": [
    "## SparkContext"
   ]
  },
  {
   "cell_type": "code",
   "execution_count": 2,
   "metadata": {},
   "outputs": [],
   "source": [
    "spark.conf.set(\"spark.sql.shuffle.partitions\", 6)\n",
    "spark.conf.set(\"spark.executor.memory\", \"2g\")"
   ]
  },
  {
   "cell_type": "code",
   "execution_count": 3,
   "metadata": {},
   "outputs": [
    {
     "name": "stdout",
     "output_type": "stream",
     "text": [
      "6 , 2g\n"
     ]
    }
   ],
   "source": [
    "print(spark.conf.get(\"spark.sql.shuffle.partitions\"), \",\", spark.conf.get(\"spark.executor.memory\"))"
   ]
  },
  {
   "cell_type": "markdown",
   "metadata": {},
   "source": [
    "## SparkSession"
   ]
  },
  {
   "cell_type": "markdown",
   "metadata": {},
   "source": [
    "#### Create a DataFrame/Dataset from a collection (e.g. list or set)"
   ]
  },
  {
   "cell_type": "code",
   "execution_count": 6,
   "metadata": {},
   "outputs": [
    {
     "data": {
      "text/plain": [
       "DataFrame[value: int]"
      ]
     },
     "metadata": {},
     "output_type": "display_data"
    },
    {
     "name": "stdout",
     "output_type": "stream",
     "text": [
      "+-----+\n",
      "|value|\n",
      "+-----+\n",
      "|    1|\n",
      "|    2|\n",
      "|    3|\n",
      "|    4|\n",
      "+-----+\n",
      "\n"
     ]
    }
   ],
   "source": [
    "from pyspark.sql.types import IntegerType\n",
    "\n",
    "list_df = spark.createDataFrame([1, 2, 3, 4], IntegerType())\n",
    "display(list_df)\n",
    "list_df.show()"
   ]
  },
  {
   "cell_type": "markdown",
   "metadata": {},
   "source": [
    "#### Create a DataFrame for a range of numbers"
   ]
  },
  {
   "cell_type": "code",
   "execution_count": 9,
   "metadata": {},
   "outputs": [
    {
     "data": {
      "text/plain": [
       "DataFrame[number: bigint]"
      ]
     },
     "metadata": {},
     "output_type": "display_data"
    },
    {
     "name": "stdout",
     "output_type": "stream",
     "text": [
      "+------+\n",
      "|number|\n",
      "+------+\n",
      "|     0|\n",
      "|     1|\n",
      "+------+\n",
      "only showing top 2 rows\n",
      "\n"
     ]
    }
   ],
   "source": [
    "ints_df = spark.range(1000).toDF(\"number\")\n",
    "display(ints_df)\n",
    "ints_df.show(2)"
   ]
  },
  {
   "cell_type": "markdown",
   "metadata": {},
   "source": [
    "#### Access the DataFrameReaders"
   ]
  },
  {
   "cell_type": "code",
   "execution_count": null,
   "metadata": {},
   "outputs": [],
   "source": [
    "df = spark.read.csv('tmp/dataframe_sample.csv', inferSchema=True)\n",
    "# spark.read.parquet()\n",
    "# spark.read.json()\n",
    "# spark.read.format().open()"
   ]
  },
  {
   "cell_type": "markdown",
   "metadata": {},
   "source": [
    "#### Register User Defined Functions (UDFs)"
   ]
  },
  {
   "cell_type": "code",
   "execution_count": 13,
   "metadata": {},
   "outputs": [
    {
     "data": {
      "text/plain": [
       "<function __main__.power3(value)>"
      ]
     },
     "execution_count": 13,
     "metadata": {},
     "output_type": "execute_result"
    }
   ],
   "source": [
    "from pyspark.sql.functions import udf\n",
    "from pyspark.sql.types import IntegerType\n",
    "\n",
    "def power3(value):\n",
    "  return value ** 3\n",
    "\n",
    "spark.udf.register(\"power3py\", power3, IntegerType())"
   ]
  },
  {
   "cell_type": "code",
   "execution_count": 16,
   "metadata": {},
   "outputs": [
    {
     "data": {
      "text/plain": [
       "DataFrame[number: bigint, power3: int]"
      ]
     },
     "metadata": {},
     "output_type": "display_data"
    },
    {
     "name": "stdout",
     "output_type": "stream",
     "text": [
      "+------+------+\n",
      "|number|power3|\n",
      "+------+------+\n",
      "|     0|     0|\n",
      "|     1|     1|\n",
      "|     2|     8|\n",
      "+------+------+\n",
      "only showing top 3 rows\n",
      "\n"
     ]
    }
   ],
   "source": [
    "power3udf = udf(power3, IntegerType())\n",
    "power3_ints_df = ints_df.select(\"number\", power3udf(\"number\").alias(\"power3\"))\n",
    "display(power3_ints_df)\n",
    "power3_ints_df.show(3)"
   ]
  },
  {
   "cell_type": "code",
   "execution_count": 21,
   "metadata": {},
   "outputs": [],
   "source": [
    "spark.range(1, 20).registerTempTable(\"test\")"
   ]
  },
  {
   "cell_type": "markdown",
   "metadata": {},
   "source": [
    "# DataFrameReader"
   ]
  },
  {
   "cell_type": "markdown",
   "metadata": {},
   "source": [
    "#### Read data for the \"core\" data formats (CSV, JSON, JDBC, ORC, Parquet, text and tables)"
   ]
  },
  {
   "cell_type": "code",
   "execution_count": 22,
   "metadata": {},
   "outputs": [
    {
     "data": {
      "text/plain": [
       "DataFrame[_c0: string]"
      ]
     },
     "metadata": {},
     "output_type": "display_data"
    },
    {
     "name": "stdout",
     "output_type": "stream",
     "text": [
      "+--------------------+\n",
      "|                 _c0|\n",
      "+--------------------+\n",
      "|id|end_date|start...|\n",
      "|1|2015-10-14 00:0...|\n",
      "|2|2015-10-15 01:0...|\n",
      "|3|2015-10-16 02:3...|\n",
      "|4|2015-10-17 03:0...|\n",
      "|5|2015-10-18 04:3...|\n",
      "+--------------------+\n",
      "\n"
     ]
    }
   ],
   "source": [
    "data_file = \"tmp/dataframe_sample.csv\"\n",
    "\n",
    "df = spark.read.csv(data_file)\n",
    "display(df)\n",
    "df.show()"
   ]
  },
  {
   "cell_type": "markdown",
   "metadata": {},
   "source": [
    "#### How to configure options for specific formats"
   ]
  },
  {
   "cell_type": "code",
   "execution_count": 27,
   "metadata": {},
   "outputs": [
    {
     "data": {
      "text/plain": [
       "DataFrame[id|end_date|start_date|location: string]"
      ]
     },
     "metadata": {},
     "output_type": "display_data"
    },
    {
     "name": "stdout",
     "output_type": "stream",
     "text": [
      "+-------------------------------+\n",
      "|id|end_date|start_date|location|\n",
      "+-------------------------------+\n",
      "|           1|2015-10-14 00:0...|\n",
      "|           2|2015-10-15 01:0...|\n",
      "|           3|2015-10-16 02:3...|\n",
      "|           4|2015-10-17 03:0...|\n",
      "|           5|2015-10-18 04:3...|\n",
      "+-------------------------------+\n",
      "\n"
     ]
    }
   ],
   "source": [
    "df = spark.read.csv(data_file, header=True, inferSchema=True)\n",
    "display(df)\n",
    "df.show()"
   ]
  },
  {
   "cell_type": "markdown",
   "metadata": {},
   "source": [
    "#### How to read data from non-core formats using format() and load()"
   ]
  },
  {
   "cell_type": "code",
   "execution_count": 30,
   "metadata": {},
   "outputs": [
    {
     "name": "stdout",
     "output_type": "stream",
     "text": [
      "+---+-------------------+-------------------+--------+\n",
      "| id|           end_date|         start_date|location|\n",
      "+---+-------------------+-------------------+--------+\n",
      "|  1|2015-10-14 00:00:00|2015-09-14 00:00:00|   CA-SF|\n",
      "|  2|2015-10-15 01:00:20|2015-08-14 00:00:00|   CA-SD|\n",
      "|  3|2015-10-16 02:30:00|2015-01-14 00:00:00|   NY-NY|\n",
      "|  4|2015-10-17 03:00:20|2015-02-14 00:00:00|   NY-NY|\n",
      "|  5|2015-10-18 04:30:00|2014-04-14 00:00:00|   CA-SD|\n",
      "+---+-------------------+-------------------+--------+\n",
      "\n"
     ]
    }
   ],
   "source": [
    "df = spark.read.format(\"csv\").options(header='true', delimiter = '|').load(data_file)\n",
    "df.show()"
   ]
  },
  {
   "cell_type": "markdown",
   "metadata": {},
   "source": [
    "#### How to construct and specify a schema using the StructType classes"
   ]
  },
  {
   "cell_type": "code",
   "execution_count": 34,
   "metadata": {},
   "outputs": [
    {
     "name": "stdout",
     "output_type": "stream",
     "text": [
      "+------+-------------------+-------------------+\n",
      "|field1|             field2|             field3|\n",
      "+------+-------------------+-------------------+\n",
      "|     1|2015-10-14 00:00:00|2015-09-14 00:00:00|\n",
      "|     2|2015-10-15 01:00:20|2015-08-14 00:00:00|\n",
      "|     3|2015-10-16 02:30:00|2015-01-14 00:00:00|\n",
      "|     4|2015-10-17 03:00:20|2015-02-14 00:00:00|\n",
      "|     5|2015-10-18 04:30:00|2014-04-14 00:00:00|\n",
      "+------+-------------------+-------------------+\n",
      "\n"
     ]
    }
   ],
   "source": [
    "from pyspark.sql.types import StructField, StructType, StringType, LongType\n",
    "\n",
    "myManualSchema = StructType([\n",
    "  StructField(\"field1\", StringType()),\n",
    "  StructField(\"field2\", StringType()),\n",
    "  StructField(\"field3\", StringType())\n",
    "])\n",
    "\n",
    "df3 = spark.read.format(\"csv\").schema(myManualSchema).option(\"header\",\"true\")\\\n",
    ".options(delimiter = '|')\\\n",
    ".load(data_file)\n",
    "df3.show()"
   ]
  }
 ],
 "metadata": {
  "kernelspec": {
   "display_name": "Python 3",
   "language": "python",
   "name": "python3"
  },
  "language_info": {
   "codemirror_mode": {
    "name": "ipython",
    "version": 3
   },
   "file_extension": ".py",
   "mimetype": "text/x-python",
   "name": "python",
   "nbconvert_exporter": "python",
   "pygments_lexer": "ipython3",
   "version": "3.6.8"
  }
 },
 "nbformat": 4,
 "nbformat_minor": 4
}
