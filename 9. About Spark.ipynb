{
 "cells": [
  {
   "cell_type": "markdown",
   "metadata": {},
   "source": [
    "# Question 9"
   ]
  },
  {
   "cell_type": "markdown",
   "metadata": {},
   "source": [
    "Question 9: Which of the following statements are correct with regards to Spark DataFrame?\n",
    "\n",
    "A. DataFrame is conceptually equivalent to a table in Database\n",
    "B. DataFrame uses the catalyst optmizer for optimizing the operation on DataFrame\n",
    "D. DataFrame uses tungsten which provide physical execution in backend"
   ]
  },
  {
   "cell_type": "markdown",
   "metadata": {},
   "source": [
    "Dataframe in spark was introduced with spark 1.3 version. Dataframe was able to overcome some\n",
    "challenges faced with the RDD\n",
    "\n",
    "Dataframe is also a distributed collection of data which is organized into named columns. It's \n",
    "conceptually equivalent to a able in a Relational Database.\n",
    "If you know the R or Python than it's very similar to Dataframe in same language.\n",
    "DataFrame uses the catalyst query optimized, which leverages it for extensible query optimization.\n",
    "All the data distribuid across the node using DataFrame are organized into named columns.\n",
    "They're concepually equivalent to a relational database table. However there is a lot of \n",
    "optimizacion done for DataFrame in Spark.\n",
    "You can use Hive queries as it's without any change in DataFrame."
   ]
  },
  {
   "cell_type": "markdown",
   "metadata": {},
   "source": [
    "DataFrame uses the catalyst optimizer in following 4 phases.\n",
    "\n",
    "1. Analyzing a logical plan to resolve references.\n",
    "2. Logical plan optimization.\n",
    "3. Physical Planning.\n",
    "4. Generates the code to compile parts of the query to java Byte code."
   ]
  },
  {
   "cell_type": "markdown",
   "metadata": {},
   "source": [
    "Tungsten: provides a physical execution backend which explicity manages the memory and\n",
    "dynamically generates bytecode for expression evaluation."
   ]
  }
 ],
 "metadata": {
  "kernelspec": {
   "display_name": "Python 3",
   "language": "python",
   "name": "python3"
  },
  "language_info": {
   "codemirror_mode": {
    "name": "ipython",
    "version": 3
   },
   "file_extension": ".py",
   "mimetype": "text/x-python",
   "name": "python",
   "nbconvert_exporter": "python",
   "pygments_lexer": "ipython3",
   "version": "3.6.8"
  }
 },
 "nbformat": 4,
 "nbformat_minor": 4
}
