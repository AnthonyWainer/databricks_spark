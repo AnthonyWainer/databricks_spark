{
 "cells": [
  {
   "cell_type": "markdown",
   "metadata": {},
   "source": [
    "# Question 1"
   ]
  },
  {
   "cell_type": "markdown",
   "metadata": {},
   "source": [
    "Question 1: You've been working with QuickTechnie Inc. who provides BigData based\n",
    "solutions and company's research team subscribed to a Facebook feed to identify new potencial customer,\n",
    "they are receiving Facebook's discussions feed on continuos basic. And research team to classify the company\n",
    "which are interested in BigData. Hence, research team will classify all the companies based on the \n",
    "keywords they are using in Facebook discussion feeds like BigData, Spark, Hadoop, HBase, Databricks. Which of the\n",
    "following Spark librery you will be using for given requirement.\n",
    "\n",
    "A. Spark SQL\n",
    "B. Spark Streaming\n",
    "C. Spark Mlib"
   ]
  }
 ],
 "metadata": {
  "kernelspec": {
   "display_name": "Python 3",
   "language": "python",
   "name": "python3"
  },
  "language_info": {
   "codemirror_mode": {
    "name": "ipython",
    "version": 3
   },
   "file_extension": ".py",
   "mimetype": "text/x-python",
   "name": "python",
   "nbconvert_exporter": "python",
   "pygments_lexer": "ipython3",
   "version": "3.6.8"
  }
 },
 "nbformat": 4,
 "nbformat_minor": 4
}
