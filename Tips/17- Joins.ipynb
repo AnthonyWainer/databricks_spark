{
 "cells": [
  {
   "cell_type": "code",
   "execution_count": 1,
   "metadata": {},
   "outputs": [],
   "source": [
    "from pyspark.sql import Row, SparkSession"
   ]
  },
  {
   "cell_type": "code",
   "execution_count": 2,
   "metadata": {},
   "outputs": [],
   "source": [
    "spark = SparkSession.builder.appName(\"test\").master(\"local[*]\").getOrCreate()"
   ]
  },
  {
   "cell_type": "code",
   "execution_count": 3,
   "metadata": {},
   "outputs": [],
   "source": [
    "columns = Row(\"id\", \"name\", \"fee\", \"venue\", \"duration\")\n",
    "\n",
    "#Getting distinct rows from DataFrame\n",
    "df = spark.sparkContext.parallelize([\n",
    "    columns(1, \"Hadoop\", 6000, \"Mumbai\", 5),\n",
    "    columns(2, \"Spark\", 5000, \"Pune\", 4),\n",
    "    columns(3, \"Python\", 4000, \"Hyderabad\", 3),\n",
    "    columns(4, \"Scala\", 4000, \"Kolkata\", 3),\n",
    "    columns(5, \"HBase\", 7000, \"Banglore\", 7),\n",
    "    columns(6, \"Scala\", 4000, \"Kolkata\", 3),\n",
    "    columns(7, \"HBase\", 7000, \"Banglore\", 7)]).toDF()"
   ]
  },
  {
   "cell_type": "code",
   "execution_count": 4,
   "metadata": {},
   "outputs": [
    {
     "name": "stdout",
     "output_type": "stream",
     "text": [
      "+---+------+----+---------+--------+\n",
      "| id|  name| fee|    venue|duration|\n",
      "+---+------+----+---------+--------+\n",
      "|  1|Hadoop|6000|   Mumbai|       5|\n",
      "|  2| Spark|5000|     Pune|       4|\n",
      "|  3|Python|4000|Hyderabad|       3|\n",
      "|  4| Scala|4000|  Kolkata|       3|\n",
      "|  5| HBase|7000| Banglore|       7|\n",
      "|  6| Scala|4000|  Kolkata|       3|\n",
      "|  7| HBase|7000| Banglore|       7|\n",
      "+---+------+----+---------+--------+\n",
      "\n"
     ]
    }
   ],
   "source": [
    "df.show()"
   ]
  },
  {
   "cell_type": "code",
   "execution_count": 5,
   "metadata": {},
   "outputs": [],
   "source": [
    "df2= spark.sparkContext.parallelize([\n",
    "    columns(1, \"Hadoop\", 6000, \"Mumbai\", 5),\n",
    "    columns(2, \"Spark\", 5000, \"Pune\", 4,),\n",
    "    columns(3, \"Python\", 4000, \"Hyderabad\", 3)]).toDF()"
   ]
  },
  {
   "cell_type": "code",
   "execution_count": 6,
   "metadata": {},
   "outputs": [
    {
     "name": "stdout",
     "output_type": "stream",
     "text": [
      "+---+------+----+---------+--------+\n",
      "| id|  name| fee|    venue|duration|\n",
      "+---+------+----+---------+--------+\n",
      "|  1|Hadoop|6000|   Mumbai|       5|\n",
      "|  2| Spark|5000|     Pune|       4|\n",
      "|  3|Python|4000|Hyderabad|       3|\n",
      "+---+------+----+---------+--------+\n",
      "\n"
     ]
    }
   ],
   "source": [
    "df2.show()"
   ]
  },
  {
   "cell_type": "markdown",
   "metadata": {},
   "source": [
    "# INNER JOIN"
   ]
  },
  {
   "cell_type": "code",
   "execution_count": 41,
   "metadata": {},
   "outputs": [
    {
     "name": "stdout",
     "output_type": "stream",
     "text": [
      "CPU times: user 0 ns, sys: 0 ns, total: 0 ns\n",
      "Wall time: 9.3 µs\n",
      "+---+------+----+---------+--------+------+----+---------+--------+\n",
      "| id|  name| fee|    venue|duration|  name| fee|    venue|duration|\n",
      "+---+------+----+---------+--------+------+----+---------+--------+\n",
      "|  1|Hadoop|6000|   Mumbai|       5|Hadoop|6000|   Mumbai|       5|\n",
      "|  3|Python|4000|Hyderabad|       3|Python|4000|Hyderabad|       3|\n",
      "|  2| Spark|5000|     Pune|       4| Spark|5000|     Pune|       4|\n",
      "+---+------+----+---------+--------+------+----+---------+--------+\n",
      "\n"
     ]
    }
   ],
   "source": [
    "%time\n",
    "df.join(df2, \"id\").show()"
   ]
  },
  {
   "cell_type": "markdown",
   "metadata": {},
   "source": [
    "# LEFT JOIN"
   ]
  },
  {
   "cell_type": "code",
   "execution_count": 19,
   "metadata": {},
   "outputs": [
    {
     "name": "stdout",
     "output_type": "stream",
     "text": [
      "+---+------+----+---------+--------+------+----+---------+--------+\n",
      "| id|  name| fee|    venue|duration|  name| fee|    venue|duration|\n",
      "+---+------+----+---------+--------+------+----+---------+--------+\n",
      "|  7| HBase|7000| Banglore|       7|  null|null|     null|    null|\n",
      "|  6| Scala|4000|  Kolkata|       3|  null|null|     null|    null|\n",
      "|  5| HBase|7000| Banglore|       7|  null|null|     null|    null|\n",
      "|  1|Hadoop|6000|   Mumbai|       5|Hadoop|6000|   Mumbai|       5|\n",
      "|  3|Python|4000|Hyderabad|       3|Python|4000|Hyderabad|       3|\n",
      "|  2| Spark|5000|     Pune|       4| Spark|5000|     Pune|       4|\n",
      "|  4| Scala|4000|  Kolkata|       3|  null|null|     null|    null|\n",
      "+---+------+----+---------+--------+------+----+---------+--------+\n",
      "\n"
     ]
    }
   ],
   "source": [
    "df.join(df2, \"id\", \"left\").show()"
   ]
  },
  {
   "cell_type": "code",
   "execution_count": 10,
   "metadata": {},
   "outputs": [],
   "source": [
    "from pyspark.sql.functions import desc_nulls_first, col"
   ]
  },
  {
   "cell_type": "code",
   "execution_count": 17,
   "metadata": {},
   "outputs": [
    {
     "name": "stdout",
     "output_type": "stream",
     "text": [
      "+---+------+----+---------+--------+------+----+---------+--------+\n",
      "| id|  name| fee|    venue|duration|  name| fee|    venue|duration|\n",
      "+---+------+----+---------+--------+------+----+---------+--------+\n",
      "|  6| Scala|4000|  Kolkata|       3|  null|null|     null|    null|\n",
      "|  7| HBase|7000| Banglore|       7|  null|null|     null|    null|\n",
      "|  4| Scala|4000|  Kolkata|       3|  null|null|     null|    null|\n",
      "|  5| HBase|7000| Banglore|       7|  null|null|     null|    null|\n",
      "|  1|Hadoop|6000|   Mumbai|       5|Hadoop|6000|   Mumbai|       5|\n",
      "|  2| Spark|5000|     Pune|       4| Spark|5000|     Pune|       4|\n",
      "|  3|Python|4000|Hyderabad|       3|Python|4000|Hyderabad|       3|\n",
      "+---+------+----+---------+--------+------+----+---------+--------+\n",
      "\n"
     ]
    }
   ],
   "source": [
    "df.alias(\"a\").join(df2.alias(\"b\"), \"id\", \"left\").sort(desc_nulls_first(\"b.duration\")).show()"
   ]
  },
  {
   "cell_type": "markdown",
   "metadata": {},
   "source": [
    "# RIGHT JOIN"
   ]
  },
  {
   "cell_type": "code",
   "execution_count": 21,
   "metadata": {},
   "outputs": [
    {
     "name": "stdout",
     "output_type": "stream",
     "text": [
      "+---+------+----+---------+--------+------+----+---------+--------+\n",
      "| id|  name| fee|    venue|duration|  name| fee|    venue|duration|\n",
      "+---+------+----+---------+--------+------+----+---------+--------+\n",
      "|  1|Hadoop|6000|   Mumbai|       5|Hadoop|6000|   Mumbai|       5|\n",
      "|  3|Python|4000|Hyderabad|       3|Python|4000|Hyderabad|       3|\n",
      "|  2| Spark|5000|     Pune|       4| Spark|5000|     Pune|       4|\n",
      "+---+------+----+---------+--------+------+----+---------+--------+\n",
      "\n"
     ]
    }
   ],
   "source": [
    "df.join(df2, \"id\", \"right\").show()"
   ]
  },
  {
   "cell_type": "markdown",
   "metadata": {},
   "source": [
    "# FULLOUTER JOIN"
   ]
  },
  {
   "cell_type": "code",
   "execution_count": 22,
   "metadata": {},
   "outputs": [
    {
     "name": "stdout",
     "output_type": "stream",
     "text": [
      "+---+------+----+---------+--------+------+----+---------+--------+\n",
      "| id|  name| fee|    venue|duration|  name| fee|    venue|duration|\n",
      "+---+------+----+---------+--------+------+----+---------+--------+\n",
      "|  7| HBase|7000| Banglore|       7|  null|null|     null|    null|\n",
      "|  6| Scala|4000|  Kolkata|       3|  null|null|     null|    null|\n",
      "|  5| HBase|7000| Banglore|       7|  null|null|     null|    null|\n",
      "|  1|Hadoop|6000|   Mumbai|       5|Hadoop|6000|   Mumbai|       5|\n",
      "|  3|Python|4000|Hyderabad|       3|Python|4000|Hyderabad|       3|\n",
      "|  2| Spark|5000|     Pune|       4| Spark|5000|     Pune|       4|\n",
      "|  4| Scala|4000|  Kolkata|       3|  null|null|     null|    null|\n",
      "+---+------+----+---------+--------+------+----+---------+--------+\n",
      "\n"
     ]
    }
   ],
   "source": [
    "df.join(df2, \"id\", \"fullouter\").show()"
   ]
  },
  {
   "cell_type": "markdown",
   "metadata": {},
   "source": [
    "# BROADCAST JOIN"
   ]
  },
  {
   "cell_type": "code",
   "execution_count": 25,
   "metadata": {},
   "outputs": [],
   "source": [
    "from pyspark.sql.functions import broadcast"
   ]
  },
  {
   "cell_type": "code",
   "execution_count": 33,
   "metadata": {},
   "outputs": [
    {
     "name": "stdout",
     "output_type": "stream",
     "text": [
      "CPU times: user 0 ns, sys: 0 ns, total: 0 ns\n",
      "Wall time: 7.63 µs\n",
      "+---+------+----+---------+--------+------+----+---------+--------+\n",
      "| id|  name| fee|    venue|duration|  name| fee|    venue|duration|\n",
      "+---+------+----+---------+--------+------+----+---------+--------+\n",
      "|  1|Hadoop|6000|   Mumbai|       5|Hadoop|6000|   Mumbai|       5|\n",
      "|  2| Spark|5000|     Pune|       4| Spark|5000|     Pune|       4|\n",
      "|  3|Python|4000|Hyderabad|       3|Python|4000|Hyderabad|       3|\n",
      "+---+------+----+---------+--------+------+----+---------+--------+\n",
      "\n"
     ]
    }
   ],
   "source": [
    "%time\n",
    "df.join(broadcast(df2), \"id\").show()"
   ]
  },
  {
   "cell_type": "code",
   "execution_count": null,
   "metadata": {},
   "outputs": [],
   "source": []
  }
 ],
 "metadata": {
  "kernelspec": {
   "display_name": "Python 3",
   "language": "python",
   "name": "python3"
  },
  "language_info": {
   "codemirror_mode": {
    "name": "ipython",
    "version": 3
   },
   "file_extension": ".py",
   "mimetype": "text/x-python",
   "name": "python",
   "nbconvert_exporter": "python",
   "pygments_lexer": "ipython3",
   "version": "3.6.9"
  }
 },
 "nbformat": 4,
 "nbformat_minor": 4
}
