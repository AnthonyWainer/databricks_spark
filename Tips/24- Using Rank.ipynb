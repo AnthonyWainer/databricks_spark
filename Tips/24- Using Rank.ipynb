{
 "cells": [
  {
   "cell_type": "code",
   "execution_count": 1,
   "metadata": {},
   "outputs": [],
   "source": [
    "from pyspark.sql import SparkSession,Row"
   ]
  },
  {
   "cell_type": "code",
   "execution_count": 2,
   "metadata": {},
   "outputs": [],
   "source": [
    "spark = SparkSession.builder.appName(\"test\").master(\"local[*]\").getOrCreate()"
   ]
  },
  {
   "cell_type": "code",
   "execution_count": 3,
   "metadata": {},
   "outputs": [],
   "source": [
    "header =Row(\"ID\", \"Name\", \"gender\", \"Salary\", \"Department\")"
   ]
  },
  {
   "cell_type": "code",
   "execution_count": 4,
   "metadata": {},
   "outputs": [],
   "source": [
    "employee_df = spark.sparkContext.parallelize([\n",
    "    header(1, \"Deva\", \"Male\", 5000, \"Sales\"), \n",
    "    header(2, \"Jugnu\", \"Female\", 6000, \"HR\"), \n",
    "    header(3, \"Kavita\", \"Female\", 7500, \"IT\"), \n",
    "    header(4, \"Vikram\", \"Male\", 6500, \"Marketing\"), \n",
    "    header(5, \"Shabana\", \"Female\", 5500, \"Finance\"), \n",
    "    header(6, \"Shantilal\", \"Male\", 8000, \"Sales\"), \n",
    "    header(7, \"Vinod\",\"Male\", 7200, \"HR\"), \n",
    "    header(8, \"Vimla\", \"Female\", 6600, \"IT\"), \n",
    "    header(9, \"Jasmin\", \"Female\", 5400, \"Marketing\"), \n",
    "    header(10, \"Lovely\", \"Female\", 6300, \"Finance\"), \n",
    "    header(11, \"Mohan\", \"Male\", 5700, \"Sales\"), \n",
    "    header(12, \"Purvish\", \"Male\", 7000, \"HR\"), \n",
    "    header(13, \"Jinat\", \"Female\", 7100, \"IT\"), \n",
    "    header(14, \"Eva\", \"Female\", 6800,\"Marketing\"), \n",
    "    header(15, \"Jitendra\", \"Male\", 5000, \"Finance\"), \n",
    "    header(15, \"Rajkumar\", \"Male\", 4500, \"Finance\"), \n",
    "    header(15, \"Satish\", \"Male\", 4500, \"Finance\"), \n",
    "    header(15, \"Himmat\", \"Male\", 3500, \"Finance\")]).toDF()"
   ]
  },
  {
   "cell_type": "code",
   "execution_count": 5,
   "metadata": {},
   "outputs": [],
   "source": [
    "#Create a Window based on the Gender to rank their salary \n",
    "#For the same salary it will assign same rank \n",
    "from pyspark.sql.window import Window \n",
    "from pyspark.sql.functions import desc_nulls_last, rank "
   ]
  },
  {
   "cell_type": "code",
   "execution_count": 7,
   "metadata": {},
   "outputs": [],
   "source": [
    "genderPartitionedSpec = Window.partitionBy(\"gender\").orderBy(desc_nulls_last(\"Salary\")) "
   ]
  },
  {
   "cell_type": "code",
   "execution_count": 8,
   "metadata": {},
   "outputs": [
    {
     "name": "stdout",
     "output_type": "stream",
     "text": [
      "+---+---------+------+------+----------+----+\n",
      "| ID|     Name|gender|Salary|Department|rank|\n",
      "+---+---------+------+------+----------+----+\n",
      "|  3|   Kavita|Female|  7500|        IT|   1|\n",
      "| 13|    Jinat|Female|  7100|        IT|   2|\n",
      "| 14|      Eva|Female|  6800| Marketing|   3|\n",
      "|  8|    Vimla|Female|  6600|        IT|   4|\n",
      "| 10|   Lovely|Female|  6300|   Finance|   5|\n",
      "|  2|    Jugnu|Female|  6000|        HR|   6|\n",
      "|  5|  Shabana|Female|  5500|   Finance|   7|\n",
      "|  9|   Jasmin|Female|  5400| Marketing|   8|\n",
      "|  6|Shantilal|  Male|  8000|     Sales|   1|\n",
      "|  7|    Vinod|  Male|  7200|        HR|   2|\n",
      "| 12|  Purvish|  Male|  7000|        HR|   3|\n",
      "|  4|   Vikram|  Male|  6500| Marketing|   4|\n",
      "| 11|    Mohan|  Male|  5700|     Sales|   5|\n",
      "|  1|     Deva|  Male|  5000|     Sales|   6|\n",
      "| 15| Jitendra|  Male|  5000|   Finance|   6|\n",
      "| 15| Rajkumar|  Male|  4500|   Finance|   8|\n",
      "| 15|   Satish|  Male|  4500|   Finance|   8|\n",
      "| 15|   Himmat|  Male|  3500|   Finance|  10|\n",
      "+---+---------+------+------+----------+----+\n",
      "\n"
     ]
    }
   ],
   "source": [
    "employee_df.withColumn(\"rank\", rank().over(genderPartitionedSpec)).show()"
   ]
  },
  {
   "cell_type": "code",
   "execution_count": 9,
   "metadata": {},
   "outputs": [],
   "source": [
    "#Create a Window based on the Department to rank their salary \n",
    "departmentPartitionedSpec = Window.partitionBy(\"Department\").orderBy(desc_nulls_last(\"Salary\")) "
   ]
  },
  {
   "cell_type": "code",
   "execution_count": 10,
   "metadata": {},
   "outputs": [
    {
     "name": "stdout",
     "output_type": "stream",
     "text": [
      "+---+---------+------+------+----------+----+\n",
      "| ID|     Name|gender|Salary|Department|rank|\n",
      "+---+---------+------+------+----------+----+\n",
      "|  6|Shantilal|  Male|  8000|     Sales|   1|\n",
      "| 11|    Mohan|  Male|  5700|     Sales|   2|\n",
      "|  1|     Deva|  Male|  5000|     Sales|   3|\n",
      "|  7|    Vinod|  Male|  7200|        HR|   1|\n",
      "| 12|  Purvish|  Male|  7000|        HR|   2|\n",
      "|  2|    Jugnu|Female|  6000|        HR|   3|\n",
      "| 10|   Lovely|Female|  6300|   Finance|   1|\n",
      "|  5|  Shabana|Female|  5500|   Finance|   2|\n",
      "| 15| Jitendra|  Male|  5000|   Finance|   3|\n",
      "| 15| Rajkumar|  Male|  4500|   Finance|   4|\n",
      "| 15|   Satish|  Male|  4500|   Finance|   4|\n",
      "| 15|   Himmat|  Male|  3500|   Finance|   6|\n",
      "| 14|      Eva|Female|  6800| Marketing|   1|\n",
      "|  4|   Vikram|  Male|  6500| Marketing|   2|\n",
      "|  9|   Jasmin|Female|  5400| Marketing|   3|\n",
      "|  3|   Kavita|Female|  7500|        IT|   1|\n",
      "| 13|    Jinat|Female|  7100|        IT|   2|\n",
      "|  8|    Vimla|Female|  6600|        IT|   3|\n",
      "+---+---------+------+------+----------+----+\n",
      "\n"
     ]
    }
   ],
   "source": [
    "employee_df.withColumn(\"rank\", rank().over(departmentPartitionedSpec)).show()"
   ]
  },
  {
   "cell_type": "code",
   "execution_count": 11,
   "metadata": {},
   "outputs": [],
   "source": [
    "#Create a Window based on the Departrment as well as gender to rank their salary \n",
    "departmentGenderPartitionedSpec = Window.partitionBy(\"Department\", \"gender\").orderBy(desc_nulls_last(\"Salary\")) "
   ]
  },
  {
   "cell_type": "code",
   "execution_count": 12,
   "metadata": {},
   "outputs": [
    {
     "name": "stdout",
     "output_type": "stream",
     "text": [
      "+---+---------+------+------+----------+----+\n",
      "| ID|     Name|gender|Salary|Department|rank|\n",
      "+---+---------+------+------+----------+----+\n",
      "|  3|   Kavita|Female|  7500|        IT|   1|\n",
      "| 13|    Jinat|Female|  7100|        IT|   2|\n",
      "|  8|    Vimla|Female|  6600|        IT|   3|\n",
      "|  7|    Vinod|  Male|  7200|        HR|   1|\n",
      "| 12|  Purvish|  Male|  7000|        HR|   2|\n",
      "|  6|Shantilal|  Male|  8000|     Sales|   1|\n",
      "| 11|    Mohan|  Male|  5700|     Sales|   2|\n",
      "|  1|     Deva|  Male|  5000|     Sales|   3|\n",
      "| 14|      Eva|Female|  6800| Marketing|   1|\n",
      "|  9|   Jasmin|Female|  5400| Marketing|   2|\n",
      "| 10|   Lovely|Female|  6300|   Finance|   1|\n",
      "|  5|  Shabana|Female|  5500|   Finance|   2|\n",
      "|  4|   Vikram|  Male|  6500| Marketing|   1|\n",
      "| 15| Jitendra|  Male|  5000|   Finance|   1|\n",
      "| 15| Rajkumar|  Male|  4500|   Finance|   2|\n",
      "| 15|   Satish|  Male|  4500|   Finance|   2|\n",
      "| 15|   Himmat|  Male|  3500|   Finance|   4|\n",
      "|  2|    Jugnu|Female|  6000|        HR|   1|\n",
      "+---+---------+------+------+----------+----+\n",
      "\n"
     ]
    }
   ],
   "source": [
    "employee_df.withColumn(\"rank\", rank().over(departmentGenderPartitionedSpec)).show()"
   ]
  },
  {
   "cell_type": "code",
   "execution_count": 13,
   "metadata": {},
   "outputs": [],
   "source": [
    "#Lets get percent rank \n",
    "#For the same salary it will assign same rank \n",
    "genderPartitionedSpec1 = Window.partitionBy(\"gender\").orderBy(desc_nulls_last(\"Salary\")) "
   ]
  },
  {
   "cell_type": "code",
   "execution_count": 15,
   "metadata": {},
   "outputs": [],
   "source": [
    "from pyspark.sql.functions import percent_rank "
   ]
  },
  {
   "cell_type": "code",
   "execution_count": 16,
   "metadata": {},
   "outputs": [
    {
     "name": "stdout",
     "output_type": "stream",
     "text": [
      "+---+---------+------+------+----------+-------------------+\n",
      "| ID|     Name|gender|Salary|Department|        percentRank|\n",
      "+---+---------+------+------+----------+-------------------+\n",
      "|  3|   Kavita|Female|  7500|        IT|                0.0|\n",
      "| 13|    Jinat|Female|  7100|        IT|0.14285714285714285|\n",
      "| 14|      Eva|Female|  6800| Marketing| 0.2857142857142857|\n",
      "|  8|    Vimla|Female|  6600|        IT|0.42857142857142855|\n",
      "| 10|   Lovely|Female|  6300|   Finance| 0.5714285714285714|\n",
      "|  2|    Jugnu|Female|  6000|        HR| 0.7142857142857143|\n",
      "|  5|  Shabana|Female|  5500|   Finance| 0.8571428571428571|\n",
      "|  9|   Jasmin|Female|  5400| Marketing|                1.0|\n",
      "|  6|Shantilal|  Male|  8000|     Sales|                0.0|\n",
      "|  7|    Vinod|  Male|  7200|        HR| 0.1111111111111111|\n",
      "| 12|  Purvish|  Male|  7000|        HR| 0.2222222222222222|\n",
      "|  4|   Vikram|  Male|  6500| Marketing| 0.3333333333333333|\n",
      "| 11|    Mohan|  Male|  5700|     Sales| 0.4444444444444444|\n",
      "|  1|     Deva|  Male|  5000|     Sales| 0.5555555555555556|\n",
      "| 15| Jitendra|  Male|  5000|   Finance| 0.5555555555555556|\n",
      "| 15| Rajkumar|  Male|  4500|   Finance| 0.7777777777777778|\n",
      "| 15|   Satish|  Male|  4500|   Finance| 0.7777777777777778|\n",
      "| 15|   Himmat|  Male|  3500|   Finance|                1.0|\n",
      "+---+---------+------+------+----------+-------------------+\n",
      "\n"
     ]
    }
   ],
   "source": [
    "employee_df.withColumn(\"percentRank\", percent_rank().over(genderPartitionedSpec1)).show()"
   ]
  },
  {
   "cell_type": "code",
   "execution_count": 17,
   "metadata": {},
   "outputs": [],
   "source": [
    "#Use the dens_rank #It will give you the continuous rank \n",
    "genderPartitionedSpec2 = Window.partitionBy(\"gender\").orderBy(desc_nulls_last(\"Salary\")) "
   ]
  },
  {
   "cell_type": "code",
   "execution_count": 18,
   "metadata": {},
   "outputs": [],
   "source": [
    "from pyspark.sql.functions import dense_rank "
   ]
  },
  {
   "cell_type": "code",
   "execution_count": 19,
   "metadata": {},
   "outputs": [
    {
     "name": "stdout",
     "output_type": "stream",
     "text": [
      "+---+---------+------+------+----------+---------+\n",
      "| ID|     Name|gender|Salary|Department|denseRank|\n",
      "+---+---------+------+------+----------+---------+\n",
      "|  3|   Kavita|Female|  7500|        IT|        1|\n",
      "| 13|    Jinat|Female|  7100|        IT|        2|\n",
      "| 14|      Eva|Female|  6800| Marketing|        3|\n",
      "|  8|    Vimla|Female|  6600|        IT|        4|\n",
      "| 10|   Lovely|Female|  6300|   Finance|        5|\n",
      "|  2|    Jugnu|Female|  6000|        HR|        6|\n",
      "|  5|  Shabana|Female|  5500|   Finance|        7|\n",
      "|  9|   Jasmin|Female|  5400| Marketing|        8|\n",
      "|  6|Shantilal|  Male|  8000|     Sales|        1|\n",
      "|  7|    Vinod|  Male|  7200|        HR|        2|\n",
      "| 12|  Purvish|  Male|  7000|        HR|        3|\n",
      "|  4|   Vikram|  Male|  6500| Marketing|        4|\n",
      "| 11|    Mohan|  Male|  5700|     Sales|        5|\n",
      "|  1|     Deva|  Male|  5000|     Sales|        6|\n",
      "| 15| Jitendra|  Male|  5000|   Finance|        6|\n",
      "| 15| Rajkumar|  Male|  4500|   Finance|        7|\n",
      "| 15|   Satish|  Male|  4500|   Finance|        7|\n",
      "| 15|   Himmat|  Male|  3500|   Finance|        8|\n",
      "+---+---------+------+------+----------+---------+\n",
      "\n"
     ]
    }
   ],
   "source": [
    "employee_df.withColumn(\"denseRank\", dense_rank().over(genderPartitionedSpec2)).show()"
   ]
  }
 ],
 "metadata": {
  "kernelspec": {
   "display_name": "Python 3",
   "language": "python",
   "name": "python3"
  },
  "language_info": {
   "codemirror_mode": {
    "name": "ipython",
    "version": 3
   },
   "file_extension": ".py",
   "mimetype": "text/x-python",
   "name": "python",
   "nbconvert_exporter": "python",
   "pygments_lexer": "ipython3",
   "version": "3.6.9"
  }
 },
 "nbformat": 4,
 "nbformat_minor": 4
}
