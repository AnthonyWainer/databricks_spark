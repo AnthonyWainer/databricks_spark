{
 "cells": [
  {
   "cell_type": "markdown",
   "metadata": {},
   "source": [
    "# Practice Row"
   ]
  },
  {
   "cell_type": "code",
   "execution_count": 12,
   "metadata": {},
   "outputs": [],
   "source": [
    "from pyspark.sql import Row\n",
    "from pyspark.sql import SparkSession"
   ]
  },
  {
   "cell_type": "code",
   "execution_count": 13,
   "metadata": {},
   "outputs": [],
   "source": [
    "spark = SparkSession.builder.appName(\"test\").getOrCreate()"
   ]
  },
  {
   "cell_type": "code",
   "execution_count": 4,
   "metadata": {},
   "outputs": [],
   "source": [
    "row = Row(\"Test 1\", 30000, \"exercise 1\", 20000)\n",
    "row1 = Row(\"Test 2\", 10000, \"exercise 2\", 40000)\n",
    "row2 = Row(\"Test 3\", 60000, \"exercise 3\", 60000)"
   ]
  },
  {
   "cell_type": "code",
   "execution_count": 6,
   "metadata": {},
   "outputs": [
    {
     "data": {
      "text/plain": [
       "30000"
      ]
     },
     "execution_count": 6,
     "metadata": {},
     "output_type": "execute_result"
    }
   ],
   "source": [
    "#acceding to value from position\n",
    "row[1]"
   ]
  },
  {
   "cell_type": "code",
   "execution_count": 16,
   "metadata": {},
   "outputs": [],
   "source": [
    "data = spark.sparkContext.parallelize([row, row1, row2])"
   ]
  },
  {
   "cell_type": "code",
   "execution_count": 7,
   "metadata": {},
   "outputs": [],
   "source": [
    "from pyspark.sql.types import StructType, StructField, StringType, IntegerType"
   ]
  },
  {
   "cell_type": "markdown",
   "metadata": {},
   "source": [
    "## Define Schema"
   ]
  },
  {
   "cell_type": "code",
   "execution_count": 17,
   "metadata": {},
   "outputs": [],
   "source": [
    "schema = StructType(\n",
    "[\n",
    "    StructField(\"name\", StringType(), True),\n",
    "    StructField(\"fee\", IntegerType(), False),\n",
    "    StructField(\"quantity\", StringType(), False),\n",
    "    StructField(\"code\", IntegerType(), False),\n",
    "]\n",
    ")"
   ]
  },
  {
   "cell_type": "markdown",
   "metadata": {},
   "source": [
    "## Creating DataFrame"
   ]
  },
  {
   "cell_type": "code",
   "execution_count": 19,
   "metadata": {},
   "outputs": [],
   "source": [
    "dataFrame = spark.createDataFrame(data, schema)"
   ]
  },
  {
   "cell_type": "code",
   "execution_count": 21,
   "metadata": {},
   "outputs": [
    {
     "name": "stdout",
     "output_type": "stream",
     "text": [
      "root\n",
      " |-- name: string (nullable = true)\n",
      " |-- fee: integer (nullable = false)\n",
      " |-- quantity: string (nullable = false)\n",
      " |-- code: integer (nullable = false)\n",
      "\n"
     ]
    }
   ],
   "source": [
    "dataFrame.printSchema()"
   ]
  },
  {
   "cell_type": "code",
   "execution_count": 20,
   "metadata": {},
   "outputs": [
    {
     "name": "stdout",
     "output_type": "stream",
     "text": [
      "+------+-----+----------+-----+\n",
      "|  name|  fee|  quantity| code|\n",
      "+------+-----+----------+-----+\n",
      "|Test 1|30000|exercise 1|20000|\n",
      "|Test 2|10000|exercise 2|40000|\n",
      "|Test 3|60000|exercise 3|60000|\n",
      "+------+-----+----------+-----+\n",
      "\n"
     ]
    }
   ],
   "source": [
    "dataFrame.show()"
   ]
  },
  {
   "cell_type": "markdown",
   "metadata": {},
   "source": [
    "## Creating DataFrame from CSV"
   ]
  },
  {
   "cell_type": "code",
   "execution_count": 31,
   "metadata": {},
   "outputs": [],
   "source": [
    "ndf = spark.read.format(\"com.databricks.spark.csv\").option(\"header\", True).load(\"../DataDummy/course_q7.csv\")"
   ]
  },
  {
   "cell_type": "code",
   "execution_count": 32,
   "metadata": {},
   "outputs": [
    {
     "name": "stdout",
     "output_type": "stream",
     "text": [
      "+---+----------------+---------+--------------------+------------+-------------+-----------+\n",
      "| sr|plataform_phrase|    title|                 url|release_year|release_month|release_day|\n",
      "+---+----------------+---------+--------------------+------------+-------------+-----------+\n",
      "|  0|         AMAZING|DATASTACK|http://www.datast...|        2018|            6|         15|\n",
      "|  1|         AMAZING|    AAAAA| http://www.aaaa.com|        2018|            6|         15|\n",
      "+---+----------------+---------+--------------------+------------+-------------+-----------+\n",
      "\n"
     ]
    }
   ],
   "source": [
    "ndf.show()"
   ]
  }
 ],
 "metadata": {
  "kernelspec": {
   "display_name": "Python 3",
   "language": "python",
   "name": "python3"
  },
  "language_info": {
   "codemirror_mode": {
    "name": "ipython",
    "version": 3
   },
   "file_extension": ".py",
   "mimetype": "text/x-python",
   "name": "python",
   "nbconvert_exporter": "python",
   "pygments_lexer": "ipython3",
   "version": "3.6.8"
  }
 },
 "nbformat": 4,
 "nbformat_minor": 4
}
