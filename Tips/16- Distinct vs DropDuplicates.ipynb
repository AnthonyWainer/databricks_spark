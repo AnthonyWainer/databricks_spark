{
 "cells": [
  {
   "cell_type": "code",
   "execution_count": 1,
   "metadata": {},
   "outputs": [],
   "source": [
    "from pyspark.sql import Row, SparkSession"
   ]
  },
  {
   "cell_type": "code",
   "execution_count": 2,
   "metadata": {},
   "outputs": [],
   "source": [
    "spark = SparkSession.builder.appName(\"test\").master(\"local[*]\").getOrCreate()"
   ]
  },
  {
   "cell_type": "code",
   "execution_count": 4,
   "metadata": {},
   "outputs": [],
   "source": [
    "columns = Row(\"id\", \"name\", \"fee\", \"venue\", \"duration\")\n",
    "\n",
    "#Getting distinct rows from DataFrame\n",
    "df = spark.sparkContext.parallelize([\n",
    "    columns(1, \"Hadoop\", 6000, \"Mumbai\", 5),\n",
    "    columns(2, \"Spark\", 5000, \"Pune\", 4),\n",
    "    columns(3, \"Python\", 4000, \"Hyderabad\", 3),\n",
    "    columns(4, \"Scala\", 4000, \"Kolkata\", 3),\n",
    "    columns(5, \"HBase\", 7000, \"Banglore\", 7),\n",
    "    columns(4, \"Scala\", 4000, \"Kolkata\", 3),\n",
    "    columns(5, \"HBase\", 7000, \"Banglore\", 7),\n",
    "    columns(11, \"Scala\", 4000, \"Kolkata\", 3),\n",
    "    columns(12, \"HBase\", 7000, \"Banglore\", 7)]).toDF()"
   ]
  },
  {
   "cell_type": "code",
   "execution_count": 5,
   "metadata": {},
   "outputs": [
    {
     "name": "stdout",
     "output_type": "stream",
     "text": [
      "+---+------+----+---------+--------+\n",
      "| id|  name| fee|    venue|duration|\n",
      "+---+------+----+---------+--------+\n",
      "|  4| Scala|4000|  Kolkata|       3|\n",
      "| 11| Scala|4000|  Kolkata|       3|\n",
      "|  1|Hadoop|6000|   Mumbai|       5|\n",
      "|  2| Spark|5000|     Pune|       4|\n",
      "| 12| HBase|7000| Banglore|       7|\n",
      "|  5| HBase|7000| Banglore|       7|\n",
      "|  3|Python|4000|Hyderabad|       3|\n",
      "+---+------+----+---------+--------+\n",
      "\n"
     ]
    }
   ],
   "source": [
    "#Getting distinct values from DataFrame\n",
    "df.distinct().show()"
   ]
  },
  {
   "cell_type": "code",
   "execution_count": 6,
   "metadata": {},
   "outputs": [
    {
     "name": "stdout",
     "output_type": "stream",
     "text": [
      "+---+------+----+---------+--------+\n",
      "| id|  name| fee|    venue|duration|\n",
      "+---+------+----+---------+--------+\n",
      "|  5| HBase|7000| Banglore|       7|\n",
      "|  1|Hadoop|6000|   Mumbai|       5|\n",
      "|  2| Spark|5000|     Pune|       4|\n",
      "|  3|Python|4000|Hyderabad|       3|\n",
      "|  4| Scala|4000|  Kolkata|       3|\n",
      "+---+------+----+---------+--------+\n",
      "\n"
     ]
    }
   ],
   "source": [
    "#Remove duplicates using selected columns\n",
    "df.dropDuplicates([\"name\",\"fee\",\"venue\",\"duration\"]).show()"
   ]
  },
  {
   "cell_type": "code",
   "execution_count": 8,
   "metadata": {},
   "outputs": [],
   "source": [
    "df2= spark.sparkContext.parallelize([columns(1, \"Hadoop\", 6000, \"Mumbai\", 5),\n",
    "                     columns(2, \"Spark\", 5000, \"Pune\", 4),\n",
    "                     columns(3, \"Python\", 4000, \"Hyderabad\", 3)]).toDF()"
   ]
  },
  {
   "cell_type": "code",
   "execution_count": 11,
   "metadata": {},
   "outputs": [
    {
     "name": "stdout",
     "output_type": "stream",
     "text": [
      "+---+-----+----+--------+--------+\n",
      "| id| name| fee|   venue|duration|\n",
      "+---+-----+----+--------+--------+\n",
      "| 12|HBase|7000|Banglore|       7|\n",
      "| 11|Scala|4000| Kolkata|       3|\n",
      "|  5|HBase|7000|Banglore|       7|\n",
      "|  5|HBase|7000|Banglore|       7|\n",
      "|  4|Scala|4000| Kolkata|       3|\n",
      "|  4|Scala|4000| Kolkata|       3|\n",
      "+---+-----+----+--------+--------+\n",
      "\n"
     ]
    }
   ],
   "source": [
    "df.exceptAll(df2).show()"
   ]
  }
 ],
 "metadata": {
  "kernelspec": {
   "display_name": "Python 3",
   "language": "python",
   "name": "python3"
  },
  "language_info": {
   "codemirror_mode": {
    "name": "ipython",
    "version": 3
   },
   "file_extension": ".py",
   "mimetype": "text/x-python",
   "name": "python",
   "nbconvert_exporter": "python",
   "pygments_lexer": "ipython3",
   "version": "3.6.9"
  }
 },
 "nbformat": 4,
 "nbformat_minor": 4
}
