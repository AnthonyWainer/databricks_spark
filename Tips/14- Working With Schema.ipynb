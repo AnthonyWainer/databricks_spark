{
 "cells": [
  {
   "cell_type": "code",
   "execution_count": 4,
   "metadata": {},
   "outputs": [],
   "source": [
    "from pyspark.sql import Row, SparkSession\n",
    "from pyspark.sql.types import StructType, StructField, StringType, IntegerType, LongType, DoubleType\n",
    "from pyspark.sql.functions import col"
   ]
  },
  {
   "cell_type": "code",
   "execution_count": 3,
   "metadata": {},
   "outputs": [],
   "source": [
    "spark = SparkSession.builder.appName(\"test\").master(\"local[*]\").getOrCreate()"
   ]
  },
  {
   "cell_type": "code",
   "execution_count": 5,
   "metadata": {},
   "outputs": [],
   "source": [
    "schemaDummy = StructType().add(\"course_id\", IntegerType())\\\n",
    "                          .add(\"course_name\", StringType())\\\n",
    "                          .add(\"course_fee\",IntegerType())\\\n",
    "                          .add(\"venue\",StringType())\\"
   ]
  },
  {
   "cell_type": "code",
   "execution_count": 6,
   "metadata": {},
   "outputs": [],
   "source": [
    "courseDetail = StructType( [StructField(\"name\", StringType(), True), \n",
    "                            StructField(\"Fee\", IntegerType(), False),\n",
    "                            StructField(\"City\", StringType(), False),\n",
    "                            StructField(\"Zip\", IntegerType(), False) \n",
    "                                ])"
   ]
  },
  {
   "cell_type": "code",
   "execution_count": 8,
   "metadata": {},
   "outputs": [
    {
     "name": "stdout",
     "output_type": "stream",
     "text": [
      "<bound method DataType.json of StructType(List(StructField(name,StringType,true),StructField(Fee,IntegerType,false),StructField(City,StringType,false),StructField(Zip,IntegerType,false)))>\n",
      "<bound method StructType.simpleString of StructType(List(StructField(name,StringType,true),StructField(Fee,IntegerType,false),StructField(City,StringType,false),StructField(Zip,IntegerType,false)))>\n"
     ]
    }
   ],
   "source": [
    "#Check the structure of the defined schema\n",
    "print(courseDetail.json)\n",
    "print(courseDetail.simpleString)"
   ]
  },
  {
   "cell_type": "code",
   "execution_count": 9,
   "metadata": {},
   "outputs": [],
   "source": [
    "# Create  Rows instances\n",
    "row = Row(\"Hadoop\" ,5000,\"Mumbai\" ,400001 )\n",
    "row1 = Row(\"Spark\" ,5000,\"Pune\" ,111045 )\n",
    "row2 = Row(\"Cassandra\" ,5000,\"Banglore\" ,530068 )"
   ]
  },
  {
   "cell_type": "code",
   "execution_count": 10,
   "metadata": {},
   "outputs": [
    {
     "name": "stdout",
     "output_type": "stream",
     "text": [
      "Row(Hadoop=0)\n",
      "Row(Hadoop=2)\n",
      "Row(Hadoop=3)\n"
     ]
    }
   ],
   "source": [
    "#Accessing values from Row using ordinal position\n",
    "print(row(0))\n",
    "print(row(2))\n",
    "print(row(3))"
   ]
  },
  {
   "cell_type": "code",
   "execution_count": 12,
   "metadata": {},
   "outputs": [],
   "source": [
    "#Now create the DataFrame using the schema we have created above \n",
    "df= spark.createDataFrame(spark.sparkContext.parallelize([row, row1, row2]),courseDetail) "
   ]
  },
  {
   "cell_type": "code",
   "execution_count": 13,
   "metadata": {},
   "outputs": [
    {
     "name": "stdout",
     "output_type": "stream",
     "text": [
      "root\n",
      " |-- name: string (nullable = true)\n",
      " |-- Fee: integer (nullable = false)\n",
      " |-- City: string (nullable = false)\n",
      " |-- Zip: integer (nullable = false)\n",
      "\n"
     ]
    }
   ],
   "source": [
    "df.printSchema()"
   ]
  },
  {
   "cell_type": "code",
   "execution_count": 14,
   "metadata": {},
   "outputs": [
    {
     "name": "stdout",
     "output_type": "stream",
     "text": [
      "+---------+----+--------+------+\n",
      "|     name| Fee|    City|   Zip|\n",
      "+---------+----+--------+------+\n",
      "|   Hadoop|5000|  Mumbai|400001|\n",
      "|    Spark|5000|    Pune|111045|\n",
      "|Cassandra|5000|Banglore|530068|\n",
      "+---------+----+--------+------+\n",
      "\n"
     ]
    },
    {
     "data": {
      "text/plain": [
       "StructType(List(StructField(name,StringType,true),StructField(Fee,IntegerType,false),StructField(City,StringType,false),StructField(Zip,IntegerType,false)))"
      ]
     },
     "execution_count": 14,
     "metadata": {},
     "output_type": "execute_result"
    }
   ],
   "source": [
    "#Check the data\n",
    "df.show()\n",
    "df.schema"
   ]
  }
 ],
 "metadata": {
  "kernelspec": {
   "display_name": "Python 3",
   "language": "python",
   "name": "python3"
  },
  "language_info": {
   "codemirror_mode": {
    "name": "ipython",
    "version": 3
   },
   "file_extension": ".py",
   "mimetype": "text/x-python",
   "name": "python",
   "nbconvert_exporter": "python",
   "pygments_lexer": "ipython3",
   "version": "3.6.8"
  }
 },
 "nbformat": 4,
 "nbformat_minor": 4
}
