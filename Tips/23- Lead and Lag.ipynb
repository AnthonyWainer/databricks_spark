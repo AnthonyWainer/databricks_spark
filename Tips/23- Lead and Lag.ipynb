{
 "cells": [
  {
   "cell_type": "code",
   "execution_count": 1,
   "metadata": {},
   "outputs": [],
   "source": [
    "from pyspark.sql import SparkSession,Row"
   ]
  },
  {
   "cell_type": "code",
   "execution_count": 2,
   "metadata": {},
   "outputs": [],
   "source": [
    "spark = SparkSession.builder.appName(\"test\").master(\"local[*]\").getOrCreate()"
   ]
  },
  {
   "cell_type": "code",
   "execution_count": 3,
   "metadata": {},
   "outputs": [],
   "source": [
    "header =Row(\"ID\", \"Name\", \"gender\", \"Salary\", \"Department\")"
   ]
  },
  {
   "cell_type": "code",
   "execution_count": 19,
   "metadata": {},
   "outputs": [],
   "source": [
    "employee_df = spark.sparkContext.parallelize([ \n",
    "    header(1, \"Deva\", \"Male\", 5000, \"Sales\"), \n",
    "    header(2, \"Jugnu\", \"Female\", 6000, \"HR\"), \n",
    "    header(3, \"Kavita\", \"Female\", 7500, \"IT\"), \n",
    "    header(4, \"Vikram\", \"Male\", 6500, \"Marketing\"), \n",
    "    header(5, \"Shabana\", \"Female\", 5500, \"Finance\"), \n",
    "    header(6, \"Shantilal\", \"Male\", 8000, \"Sales\"), \n",
    "    header(7, \"Vinod\", \"Male\", 7200, \"HR\"), \n",
    "    header(8, \"Vimla\", \"Female\", 6600, \"IT\"), \n",
    "    header(9, \"Jasmin\", \"Female\", 5400, \"Marketing\"), \n",
    "    header(10, \"Lovely\", \"Female\", 6300, \"Finance\"), \n",
    "    header(11, \"Mohan\", \"Male\", 5700, \"Sales\"), \n",
    "    header(12, \"Purvish\", \"Male\", 7000, \"HR\"),  \n",
    "    header(13, \"Jinat\", \"Female\", 7100, \"IT\"), \n",
    "    header(14, \"Eva\", \"Female\", 6800,\"Marketing\"),\n",
    "    header(15, \"Jitendra\", \"Male\", 5000, \"Finance\") , \n",
    "    header(15, \"Rajkumar\", \"Male\", 4500, \"Finance\") , \n",
    "    header(15, \"Satish\", \"Male\", 4500, \"Finance\") ,\n",
    "    header(15, \"Himmat\", \"Male\", 3500, \"Finance\")]).toDF()"
   ]
  },
  {
   "cell_type": "code",
   "execution_count": 9,
   "metadata": {},
   "outputs": [],
   "source": [
    "from pyspark.sql.functions import desc_nulls_last\n",
    "from pyspark.sql.window import Window"
   ]
  },
  {
   "cell_type": "code",
   "execution_count": 10,
   "metadata": {},
   "outputs": [],
   "source": [
    "genderPartitionedSpec = Window.partitionBy(\"gender\").orderBy(desc_nulls_last(\"Salary\"))  "
   ]
  },
  {
   "cell_type": "code",
   "execution_count": 11,
   "metadata": {},
   "outputs": [],
   "source": [
    "#Lag function will help you find the previous value in the same column \n",
    "from pyspark.sql.functions import lag "
   ]
  },
  {
   "cell_type": "code",
   "execution_count": 12,
   "metadata": {},
   "outputs": [
    {
     "name": "stdout",
     "output_type": "stream",
     "text": [
      "+---+---------+------+------+----------+-------------+\n",
      "| ID|     Name|gender|Salary|Department|previousValue|\n",
      "+---+---------+------+------+----------+-------------+\n",
      "|  3|   Kavita|Female|  7500|        IT|         null|\n",
      "| 13|    Jinat|Female|  7100|        IT|         7500|\n",
      "| 14|      Eva|Female|  6800| Marketing|         7100|\n",
      "|  8|    Vimla|Female|  6600|        IT|         6800|\n",
      "| 10|   Lovely|Female|  6300|   Finance|         6600|\n",
      "|  2|    Jugnu|Female|  6000|        HR|         6300|\n",
      "|  5|  Shabana|Female|  5500|   Finance|         6000|\n",
      "|  9|   Jasmin|Female|  5400| Marketing|         5500|\n",
      "|  6|Shantilal|  Male|  8000|     Sales|         null|\n",
      "|  7|    Vinod|  Male|  7200|        HR|         8000|\n",
      "| 12|  Purvish|  Male|  7000|        HR|         7200|\n",
      "|  4|   Vikram|  Male|  6500| Marketing|         7000|\n",
      "| 11|    Mohan|  Male|  5700|     Sales|         6500|\n",
      "|  1|     Deva|  Male|  5000|     Sales|         5700|\n",
      "| 15| Jitendra|  Male|  5000|   Finance|         5000|\n",
      "| 15| Rajkumar|  Male|  4500|   Finance|         5000|\n",
      "| 15|   Satish|  Male|  4500|   Finance|         4500|\n",
      "| 15|   Himmat|  Male|  3500|   Finance|         4500|\n",
      "+---+---------+------+------+----------+-------------+\n",
      "\n"
     ]
    }
   ],
   "source": [
    "employee_df.withColumn(\"previousValue\", lag(\"Salary\", 1).over(genderPartitionedSpec)).show()"
   ]
  },
  {
   "cell_type": "code",
   "execution_count": 13,
   "metadata": {},
   "outputs": [
    {
     "name": "stdout",
     "output_type": "stream",
     "text": [
      "+---+---------+------+------+----------+-------------+\n",
      "| ID|     Name|gender|Salary|Department|previousValue|\n",
      "+---+---------+------+------+----------+-------------+\n",
      "|  3|   Kavita|Female|  7500|        IT|         null|\n",
      "| 13|    Jinat|Female|  7100|        IT|         null|\n",
      "| 14|      Eva|Female|  6800| Marketing|         7500|\n",
      "|  8|    Vimla|Female|  6600|        IT|         7100|\n",
      "| 10|   Lovely|Female|  6300|   Finance|         6800|\n",
      "|  2|    Jugnu|Female|  6000|        HR|         6600|\n",
      "|  5|  Shabana|Female|  5500|   Finance|         6300|\n",
      "|  9|   Jasmin|Female|  5400| Marketing|         6000|\n",
      "|  6|Shantilal|  Male|  8000|     Sales|         null|\n",
      "|  7|    Vinod|  Male|  7200|        HR|         null|\n",
      "| 12|  Purvish|  Male|  7000|        HR|         8000|\n",
      "|  4|   Vikram|  Male|  6500| Marketing|         7200|\n",
      "| 11|    Mohan|  Male|  5700|     Sales|         7000|\n",
      "|  1|     Deva|  Male|  5000|     Sales|         6500|\n",
      "| 15| Jitendra|  Male|  5000|   Finance|         5700|\n",
      "| 15| Rajkumar|  Male|  4500|   Finance|         5000|\n",
      "| 15|   Satish|  Male|  4500|   Finance|         5000|\n",
      "| 15|   Himmat|  Male|  3500|   Finance|         4500|\n",
      "+---+---------+------+------+----------+-------------+\n",
      "\n"
     ]
    }
   ],
   "source": [
    "employee_df.withColumn(\"previousValue\", lag(\"Salary\", 2).over(genderPartitionedSpec)).show()"
   ]
  },
  {
   "cell_type": "code",
   "execution_count": 14,
   "metadata": {},
   "outputs": [
    {
     "name": "stdout",
     "output_type": "stream",
     "text": [
      "+---+---------+------+------+----------+-------------+\n",
      "| ID|     Name|gender|Salary|Department|previousValue|\n",
      "+---+---------+------+------+----------+-------------+\n",
      "|  3|   Kavita|Female|  7500|        IT|         null|\n",
      "| 13|    Jinat|Female|  7100|        IT|         null|\n",
      "| 14|      Eva|Female|  6800| Marketing|         null|\n",
      "|  8|    Vimla|Female|  6600|        IT|         7500|\n",
      "| 10|   Lovely|Female|  6300|   Finance|         7100|\n",
      "|  2|    Jugnu|Female|  6000|        HR|         6800|\n",
      "|  5|  Shabana|Female|  5500|   Finance|         6600|\n",
      "|  9|   Jasmin|Female|  5400| Marketing|         6300|\n",
      "|  6|Shantilal|  Male|  8000|     Sales|         null|\n",
      "|  7|    Vinod|  Male|  7200|        HR|         null|\n",
      "| 12|  Purvish|  Male|  7000|        HR|         null|\n",
      "|  4|   Vikram|  Male|  6500| Marketing|         8000|\n",
      "| 11|    Mohan|  Male|  5700|     Sales|         7200|\n",
      "|  1|     Deva|  Male|  5000|     Sales|         7000|\n",
      "| 15| Jitendra|  Male|  5000|   Finance|         6500|\n",
      "| 15| Rajkumar|  Male|  4500|   Finance|         5700|\n",
      "| 15|   Satish|  Male|  4500|   Finance|         5000|\n",
      "| 15|   Himmat|  Male|  3500|   Finance|         5000|\n",
      "+---+---------+------+------+----------+-------------+\n",
      "\n"
     ]
    }
   ],
   "source": [
    "#Similarly, third last and increase the range as per need \n",
    "employee_df.withColumn(\"previousValue\", lag(\"Salary\", 3).over(genderPartitionedSpec)).show()"
   ]
  },
  {
   "cell_type": "code",
   "execution_count": 16,
   "metadata": {},
   "outputs": [],
   "source": [
    "from pyspark.sql.functions import expr"
   ]
  },
  {
   "cell_type": "code",
   "execution_count": 17,
   "metadata": {},
   "outputs": [
    {
     "name": "stdout",
     "output_type": "stream",
     "text": [
      "+---+---------+------+----------+------+-------------+----------+\n",
      "| ID|     Name|gender|Department|Salary|previousValue|SalaryDiff|\n",
      "+---+---------+------+----------+------+-------------+----------+\n",
      "|  3|   Kavita|Female|        IT|  7500|         null|      null|\n",
      "| 13|    Jinat|Female|        IT|  7100|         7500|      -400|\n",
      "| 14|      Eva|Female| Marketing|  6800|         7100|      -300|\n",
      "|  8|    Vimla|Female|        IT|  6600|         6800|      -200|\n",
      "| 10|   Lovely|Female|   Finance|  6300|         6600|      -300|\n",
      "|  2|    Jugnu|Female|        HR|  6000|         6300|      -300|\n",
      "|  5|  Shabana|Female|   Finance|  5500|         6000|      -500|\n",
      "|  9|   Jasmin|Female| Marketing|  5400|         5500|      -100|\n",
      "|  6|Shantilal|  Male|     Sales|  8000|         null|      null|\n",
      "|  7|    Vinod|  Male|        HR|  7200|         8000|      -800|\n",
      "| 12|  Purvish|  Male|        HR|  7000|         7200|      -200|\n",
      "|  4|   Vikram|  Male| Marketing|  6500|         7000|      -500|\n",
      "| 11|    Mohan|  Male|     Sales|  5700|         6500|      -800|\n",
      "|  1|     Deva|  Male|     Sales|  5000|         5700|      -700|\n",
      "| 15| Jitendra|  Male|   Finance|  5000|         5000|         0|\n",
      "| 15| Rajkumar|  Male|   Finance|  4500|         5000|      -500|\n",
      "| 15|   Satish|  Male|   Finance|  4500|         4500|         0|\n",
      "| 15|   Himmat|  Male|   Finance|  3500|         4500|     -1000|\n",
      "+---+---------+------+----------+------+-------------+----------+\n",
      "\n"
     ]
    }
   ],
   "source": [
    "#Get the difference between previous value and current value \n",
    "employee_df2 = employee_df.withColumn(\"previousValue\", lag(\"Salary\", 1)\\\n",
    "                                      .over(genderPartitionedSpec)) \n",
    "\n",
    "employee_df2.select(\"ID\", \"Name\", \"gender\", \"Department\", \"Salary\", \"previousValue\", \n",
    "                     expr(\"Salary-previousValue\").alias(\"SalaryDiff\")).show()"
   ]
  },
  {
   "cell_type": "code",
   "execution_count": 18,
   "metadata": {},
   "outputs": [],
   "source": [
    "#Now opposite of that using lead function \n",
    "from pyspark.sql.functions import lead "
   ]
  },
  {
   "cell_type": "code",
   "execution_count": 20,
   "metadata": {},
   "outputs": [
    {
     "name": "stdout",
     "output_type": "stream",
     "text": [
      "+---+---------+------+------+----------+----+\n",
      "| ID|     Name|gender|Salary|Department|lead|\n",
      "+---+---------+------+------+----------+----+\n",
      "|  3|   Kavita|Female|  7500|        IT|7100|\n",
      "| 13|    Jinat|Female|  7100|        IT|6800|\n",
      "| 14|      Eva|Female|  6800| Marketing|6600|\n",
      "|  8|    Vimla|Female|  6600|        IT|6300|\n",
      "| 10|   Lovely|Female|  6300|   Finance|6000|\n",
      "|  2|    Jugnu|Female|  6000|        HR|5500|\n",
      "|  5|  Shabana|Female|  5500|   Finance|5400|\n",
      "|  9|   Jasmin|Female|  5400| Marketing|null|\n",
      "|  6|Shantilal|  Male|  8000|     Sales|7200|\n",
      "|  7|    Vinod|  Male|  7200|        HR|7000|\n",
      "| 12|  Purvish|  Male|  7000|        HR|6500|\n",
      "|  4|   Vikram|  Male|  6500| Marketing|5700|\n",
      "| 11|    Mohan|  Male|  5700|     Sales|5000|\n",
      "|  1|     Deva|  Male|  5000|     Sales|5000|\n",
      "| 15| Jitendra|  Male|  5000|   Finance|4500|\n",
      "| 15| Rajkumar|  Male|  4500|   Finance|4500|\n",
      "| 15|   Satish|  Male|  4500|   Finance|3500|\n",
      "| 15|   Himmat|  Male|  3500|   Finance|null|\n",
      "+---+---------+------+------+----------+----+\n",
      "\n",
      "+---+---------+------+------+----------+-------+\n",
      "| ID|     Name|gender|Salary|Department|leadBy2|\n",
      "+---+---------+------+------+----------+-------+\n",
      "|  3|   Kavita|Female|  7500|        IT|   6800|\n",
      "| 13|    Jinat|Female|  7100|        IT|   6600|\n",
      "| 14|      Eva|Female|  6800| Marketing|   6300|\n",
      "|  8|    Vimla|Female|  6600|        IT|   6000|\n",
      "| 10|   Lovely|Female|  6300|   Finance|   5500|\n",
      "|  2|    Jugnu|Female|  6000|        HR|   5400|\n",
      "|  5|  Shabana|Female|  5500|   Finance|   null|\n",
      "|  9|   Jasmin|Female|  5400| Marketing|   null|\n",
      "|  6|Shantilal|  Male|  8000|     Sales|   7000|\n",
      "|  7|    Vinod|  Male|  7200|        HR|   6500|\n",
      "| 12|  Purvish|  Male|  7000|        HR|   5700|\n",
      "|  4|   Vikram|  Male|  6500| Marketing|   5000|\n",
      "| 11|    Mohan|  Male|  5700|     Sales|   5000|\n",
      "|  1|     Deva|  Male|  5000|     Sales|   4500|\n",
      "| 15| Jitendra|  Male|  5000|   Finance|   4500|\n",
      "| 15| Rajkumar|  Male|  4500|   Finance|   3500|\n",
      "| 15|   Satish|  Male|  4500|   Finance|   null|\n",
      "| 15|   Himmat|  Male|  3500|   Finance|   null|\n",
      "+---+---------+------+------+----------+-------+\n",
      "\n"
     ]
    }
   ],
   "source": [
    "employee_df.withColumn(\"lead\", lead(\"Salary\", 1).over(genderPartitionedSpec)).show() \n",
    "employee_df.withColumn(\"leadBy2\", lead(\"Salary\", 2).over(genderPartitionedSpec)).show()"
   ]
  }
 ],
 "metadata": {
  "kernelspec": {
   "display_name": "Python 3",
   "language": "python",
   "name": "python3"
  },
  "language_info": {
   "codemirror_mode": {
    "name": "ipython",
    "version": 3
   },
   "file_extension": ".py",
   "mimetype": "text/x-python",
   "name": "python",
   "nbconvert_exporter": "python",
   "pygments_lexer": "ipython3",
   "version": "3.6.9"
  }
 },
 "nbformat": 4,
 "nbformat_minor": 4
}
