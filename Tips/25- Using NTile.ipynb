{
 "cells": [
  {
   "cell_type": "code",
   "execution_count": 1,
   "metadata": {},
   "outputs": [],
   "source": [
    "from pyspark.sql import SparkSession,Row"
   ]
  },
  {
   "cell_type": "code",
   "execution_count": 2,
   "metadata": {},
   "outputs": [],
   "source": [
    "spark = SparkSession.builder.appName(\"test\").master(\"local[*]\").getOrCreate()"
   ]
  },
  {
   "cell_type": "code",
   "execution_count": 3,
   "metadata": {},
   "outputs": [],
   "source": [
    "header =Row(\"ID\", \"Name\", \"gender\", \"Salary\", \"Department\")"
   ]
  },
  {
   "cell_type": "code",
   "execution_count": 4,
   "metadata": {},
   "outputs": [],
   "source": [
    "employee_df = spark.sparkContext.parallelize([\n",
    "    header(1, \"Deva\", \"Male\", 5000, \"Sales\"), \n",
    "    header(2, \"Jugnu\", \"Female\", 6000, \"HR\"), \n",
    "    header(3, \"Kavita\", \"Female\", 7500, \"IT\"), \n",
    "    header(4, \"Vikram\", \"Male\", 6500, \"Marketing\"), \n",
    "    header(5, \"Shabana\", \"Female\", 5500, \"Finance\"), \n",
    "    header(6, \"Shantilal\", \"Male\", 8000, \"Sales\"), \n",
    "    header(7, \"Vinod\",\"Male\", 7200, \"HR\"), \n",
    "    header(8, \"Vimla\", \"Female\", 6600, \"IT\"), \n",
    "    header(9, \"Jasmin\", \"Female\", 5400, \"Marketing\"), \n",
    "    header(10, \"Lovely\", \"Female\", 6300, \"Finance\"), \n",
    "    header(11, \"Mohan\", \"Male\", 5700, \"Sales\"), \n",
    "    header(12, \"Purvish\", \"Male\", 7000, \"HR\"), \n",
    "    header(13, \"Jinat\", \"Female\", 7100, \"IT\"), \n",
    "    header(14, \"Eva\", \"Female\", 6800,\"Marketing\"), \n",
    "    header(15, \"Jitendra\", \"Male\", 5000, \"Finance\"), \n",
    "    header(15, \"Rajkumar\", \"Male\", 4500, \"Finance\"), \n",
    "    header(15, \"Satish\", \"Male\", 4500, \"Finance\"), \n",
    "    header(15, \"Himmat\", \"Male\", 3500, \"Finance\")]).toDF()"
   ]
  },
  {
   "cell_type": "code",
   "execution_count": 7,
   "metadata": {},
   "outputs": [],
   "source": [
    "from pyspark.sql.window import Window \n",
    "from pyspark.sql.functions import desc_nulls_last "
   ]
  },
  {
   "cell_type": "code",
   "execution_count": 8,
   "metadata": {},
   "outputs": [],
   "source": [
    "genderPartitionedSpec = Window.partitionBy(\"gender\").orderBy(desc_nulls_last(\"Salary\")) "
   ]
  },
  {
   "cell_type": "code",
   "execution_count": 9,
   "metadata": {},
   "outputs": [],
   "source": [
    "from pyspark.sql.functions import row_number "
   ]
  },
  {
   "cell_type": "code",
   "execution_count": 10,
   "metadata": {},
   "outputs": [
    {
     "name": "stdout",
     "output_type": "stream",
     "text": [
      "+---+---------+------+------+----------+---------+\n",
      "| ID|     Name|gender|Salary|Department|rowNumber|\n",
      "+---+---------+------+------+----------+---------+\n",
      "|  3|   Kavita|Female|  7500|        IT|        1|\n",
      "| 13|    Jinat|Female|  7100|        IT|        2|\n",
      "| 14|      Eva|Female|  6800| Marketing|        3|\n",
      "|  8|    Vimla|Female|  6600|        IT|        4|\n",
      "| 10|   Lovely|Female|  6300|   Finance|        5|\n",
      "|  2|    Jugnu|Female|  6000|        HR|        6|\n",
      "|  5|  Shabana|Female|  5500|   Finance|        7|\n",
      "|  9|   Jasmin|Female|  5400| Marketing|        8|\n",
      "|  6|Shantilal|  Male|  8000|     Sales|        1|\n",
      "|  7|    Vinod|  Male|  7200|        HR|        2|\n",
      "| 12|  Purvish|  Male|  7000|        HR|        3|\n",
      "|  4|   Vikram|  Male|  6500| Marketing|        4|\n",
      "| 11|    Mohan|  Male|  5700|     Sales|        5|\n",
      "|  1|     Deva|  Male|  5000|     Sales|        6|\n",
      "| 15| Jitendra|  Male|  5000|   Finance|        7|\n",
      "| 15| Rajkumar|  Male|  4500|   Finance|        8|\n",
      "| 15|   Satish|  Male|  4500|   Finance|        9|\n",
      "| 15|   Himmat|  Male|  3500|   Finance|       10|\n",
      "+---+---------+------+------+----------+---------+\n",
      "\n"
     ]
    }
   ],
   "source": [
    "employee_df.withColumn(\"rowNumber\", row_number().over(genderPartitionedSpec)).show()"
   ]
  },
  {
   "cell_type": "code",
   "execution_count": 12,
   "metadata": {},
   "outputs": [],
   "source": [
    "#Select ntile (Various percentire) \n",
    "#If we divide salary in 3 quartile than in which quartile it fall \n",
    "from pyspark.sql.functions import ntile "
   ]
  },
  {
   "cell_type": "code",
   "execution_count": 13,
   "metadata": {},
   "outputs": [
    {
     "name": "stdout",
     "output_type": "stream",
     "text": [
      "+---+---------+------+------+----------+-----+\n",
      "| ID|     Name|gender|Salary|Department|ntile|\n",
      "+---+---------+------+------+----------+-----+\n",
      "|  3|   Kavita|Female|  7500|        IT|    1|\n",
      "| 13|    Jinat|Female|  7100|        IT|    1|\n",
      "| 14|      Eva|Female|  6800| Marketing|    1|\n",
      "|  8|    Vimla|Female|  6600|        IT|    2|\n",
      "| 10|   Lovely|Female|  6300|   Finance|    2|\n",
      "|  2|    Jugnu|Female|  6000|        HR|    2|\n",
      "|  5|  Shabana|Female|  5500|   Finance|    3|\n",
      "|  9|   Jasmin|Female|  5400| Marketing|    3|\n",
      "|  6|Shantilal|  Male|  8000|     Sales|    1|\n",
      "|  7|    Vinod|  Male|  7200|        HR|    1|\n",
      "| 12|  Purvish|  Male|  7000|        HR|    1|\n",
      "|  4|   Vikram|  Male|  6500| Marketing|    1|\n",
      "| 11|    Mohan|  Male|  5700|     Sales|    2|\n",
      "|  1|     Deva|  Male|  5000|     Sales|    2|\n",
      "| 15| Jitendra|  Male|  5000|   Finance|    2|\n",
      "| 15| Rajkumar|  Male|  4500|   Finance|    3|\n",
      "| 15|   Satish|  Male|  4500|   Finance|    3|\n",
      "| 15|   Himmat|  Male|  3500|   Finance|    3|\n",
      "+---+---------+------+------+----------+-----+\n",
      "\n"
     ]
    }
   ],
   "source": [
    "employee_df.select(\"*\", ntile(3).over(genderPartitionedSpec).alias(\"ntile\")).show() "
   ]
  },
  {
   "cell_type": "code",
   "execution_count": 14,
   "metadata": {},
   "outputs": [
    {
     "name": "stdout",
     "output_type": "stream",
     "text": [
      "+---+---------+------+------+----------+-----+\n",
      "| ID|     Name|gender|Salary|Department|ntile|\n",
      "+---+---------+------+------+----------+-----+\n",
      "|  3|   Kavita|Female|  7500|        IT|    1|\n",
      "| 13|    Jinat|Female|  7100|        IT|    1|\n",
      "| 14|      Eva|Female|  6800| Marketing|    2|\n",
      "|  8|    Vimla|Female|  6600|        IT|    2|\n",
      "| 10|   Lovely|Female|  6300|   Finance|    3|\n",
      "|  2|    Jugnu|Female|  6000|        HR|    3|\n",
      "|  5|  Shabana|Female|  5500|   Finance|    4|\n",
      "|  9|   Jasmin|Female|  5400| Marketing|    4|\n",
      "|  6|Shantilal|  Male|  8000|     Sales|    1|\n",
      "|  7|    Vinod|  Male|  7200|        HR|    1|\n",
      "| 12|  Purvish|  Male|  7000|        HR|    1|\n",
      "|  4|   Vikram|  Male|  6500| Marketing|    2|\n",
      "| 11|    Mohan|  Male|  5700|     Sales|    2|\n",
      "|  1|     Deva|  Male|  5000|     Sales|    2|\n",
      "| 15| Jitendra|  Male|  5000|   Finance|    3|\n",
      "| 15| Rajkumar|  Male|  4500|   Finance|    3|\n",
      "| 15|   Satish|  Male|  4500|   Finance|    4|\n",
      "| 15|   Himmat|  Male|  3500|   Finance|    4|\n",
      "+---+---------+------+------+----------+-----+\n",
      "\n"
     ]
    }
   ],
   "source": [
    "#Divide with 25% and see in which 25%, employee salary false \n",
    "employee_df.select(\"*\", ntile(4).over(genderPartitionedSpec).alias(\"ntile\")).show() "
   ]
  }
 ],
 "metadata": {
  "kernelspec": {
   "display_name": "Python 3",
   "language": "python",
   "name": "python3"
  },
  "language_info": {
   "codemirror_mode": {
    "name": "ipython",
    "version": 3
   },
   "file_extension": ".py",
   "mimetype": "text/x-python",
   "name": "python",
   "nbconvert_exporter": "python",
   "pygments_lexer": "ipython3",
   "version": "3.6.9"
  }
 },
 "nbformat": 4,
 "nbformat_minor": 4
}
