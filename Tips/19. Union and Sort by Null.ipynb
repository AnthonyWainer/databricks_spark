{
 "cells": [
  {
   "cell_type": "code",
   "execution_count": 1,
   "metadata": {},
   "outputs": [],
   "source": [
    "from pyspark.sql import Row, SparkSession"
   ]
  },
  {
   "cell_type": "code",
   "execution_count": 2,
   "metadata": {},
   "outputs": [],
   "source": [
    "spark = SparkSession.builder.appName(\"test\").master(\"local[*]\").getOrCreate()"
   ]
  },
  {
   "cell_type": "code",
   "execution_count": 3,
   "metadata": {},
   "outputs": [],
   "source": [
    "df = spark.read.format(\"csv\").option(\"header\", True)\\\n",
    ".option(\"inferschema\", True).load(\"../DataDummy/data/DataBricks_Training_double.csv\")"
   ]
  },
  {
   "cell_type": "code",
   "execution_count": 5,
   "metadata": {},
   "outputs": [],
   "source": [
    "#select total price for each course and Venue\n",
    "from pyspark.sql.functions import sum\n",
    "\n",
    "fee_venue_course = df.groupBy(\"Name\", \"Venue\").agg(sum(\"Fee\").alias(\"Total_Fee\"))\\\n",
    ".select(\"Venue\", \"Name\", \"Total_Fee\")"
   ]
  },
  {
   "cell_type": "code",
   "execution_count": 10,
   "metadata": {},
   "outputs": [
    {
     "name": "stdout",
     "output_type": "stream",
     "text": [
      "+---------+--------------------+---------+\n",
      "|    Venue|                Name|Total_Fee|\n",
      "+---------+--------------------+---------+\n",
      "|Singapore|Total price from ...|    92000|\n",
      "|Frankfurt|Total price from ...|    74000|\n",
      "+---------+--------------------+---------+\n",
      "only showing top 2 rows\n",
      "\n"
     ]
    }
   ],
   "source": [
    "# select the total prices for each venue\n",
    "from pyspark.sql.functions import lit\n",
    "fee_for_venue = df.groupBy(\"Venue\").agg(sum(\"Fee\").alias(\"Total_Fee\"))\\\n",
    ".select(\"Venue\", lit(\"Total price from this value\").alias(\"Name\"), \"Total_Fee\")\n",
    "\n",
    "fee_for_venue.show(2)"
   ]
  },
  {
   "cell_type": "code",
   "execution_count": 12,
   "metadata": {},
   "outputs": [
    {
     "name": "stdout",
     "output_type": "stream",
     "text": [
      "+--------------------+--------------+---------+\n",
      "|               Venue|          Name|Total_Fee|\n",
      "+--------------------+--------------+---------+\n",
      "|Total price from ...|     HE Hadoop|    18000|\n",
      "|Total price from ...|HE SAS BigData|    24000|\n",
      "+--------------------+--------------+---------+\n",
      "only showing top 2 rows\n",
      "\n"
     ]
    }
   ],
   "source": [
    "# select the total price for each course\n",
    "courseTotal = df.groupBy(\"Name\").agg(sum(\"Fee\").alias(\"Total_Fee\"))\\\n",
    ".select(lit(\"Total price from this venue\").alias(\"Venue\"), \"Name\", \"Total_Fee\")\n",
    "\n",
    "courseTotal.show(2)"
   ]
  },
  {
   "cell_type": "code",
   "execution_count": 19,
   "metadata": {},
   "outputs": [
    {
     "name": "stdout",
     "output_type": "stream",
     "text": [
      "+-------+--------------------+---------+\n",
      "|  Venue|                Name|Total_Fee|\n",
      "+-------+--------------------+---------+\n",
      "|Beijing|HE Datascience Al...|    24000|\n",
      "|Beijing|  HE EMC Datascience|    24000|\n",
      "|Beijing|HE Google Cloud A...|    14000|\n",
      "|Beijing|          HE GraphDB|    24000|\n",
      "|Beijing|        HE Hybernate|    14000|\n",
      "|Beijing|Total price from ...|   100000|\n",
      "| Berlin|      HE Hadoop Hive|    12000|\n",
      "| Berlin|              HE Hue|    12000|\n",
      "| Berlin|       HE Oracle DBA|    20000|\n",
      "| Berlin|           HE VMWare|    14000|\n",
      "| Berlin|Total price from ...|    58000|\n",
      "|Chennai|   HE AWS Networking|    20000|\n",
      "|Chennai|           HE CCA159|    16000|\n",
      "|Chennai|        HE Mac Admin|    20000|\n",
      "|Chennai|     HE Redhat Admin|    20000|\n",
      "|Chennai|      HE Spark Graph|    12000|\n",
      "|Chennai|Total price from ...|    88000|\n",
      "|  Dubai|  HE AWS Elasticache|    24000|\n",
      "|  Dubai|HE Cloudera Hadoo...|    20000|\n",
      "|  Dubai|           HE Jquery|    18000|\n",
      "+-------+--------------------+---------+\n",
      "only showing top 20 rows\n",
      "\n"
     ]
    }
   ],
   "source": [
    "#show all the prices together using union\n",
    "from pyspark.sql.functions import asc_nulls_last, asc_nulls_first\n",
    "\n",
    "fee_venue_course.union(fee_for_venue).union(courseTotal)\\\n",
    ".sort(asc_nulls_first(\"Venue\"), asc_nulls_first(\"Name\"))\\\n",
    ".show()"
   ]
  }
 ],
 "metadata": {
  "kernelspec": {
   "display_name": "Python 3",
   "language": "python",
   "name": "python3"
  },
  "language_info": {
   "codemirror_mode": {
    "name": "ipython",
    "version": 3
   },
   "file_extension": ".py",
   "mimetype": "text/x-python",
   "name": "python",
   "nbconvert_exporter": "python",
   "pygments_lexer": "ipython3",
   "version": "3.6.9"
  }
 },
 "nbformat": 4,
 "nbformat_minor": 4
}
