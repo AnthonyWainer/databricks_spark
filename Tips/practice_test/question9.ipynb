{
 "cells": [
  {
   "cell_type": "code",
   "execution_count": 1,
   "metadata": {},
   "outputs": [],
   "source": [
    "from pyspark.sql import SparkSession, Row"
   ]
  },
  {
   "cell_type": "code",
   "execution_count": 2,
   "metadata": {},
   "outputs": [],
   "source": [
    "spark = SparkSession.builder.appName(\"test\").master(\"local[*]\").getOrCreate()"
   ]
  },
  {
   "cell_type": "code",
   "execution_count": 4,
   "metadata": {},
   "outputs": [],
   "source": [
    "from pyspark.sql.types import StructType, StructField, IntegerType, StringType, IntegerType"
   ]
  },
  {
   "cell_type": "code",
   "execution_count": 9,
   "metadata": {},
   "outputs": [],
   "source": [
    "schema= StructType([\n",
    "    StructField(\"sr\", IntegerType(), True), \n",
    "    StructField(\"phrase\", StringType(), True), \n",
    "    StructField(\"title\", StringType(), True), \n",
    "    StructField(\"url\", StringType(), True), \n",
    "    StructField(\"year\", IntegerType(), True), \n",
    "    StructField(\"month\", IntegerType(), True), \n",
    "    StructField(\"day\", IntegerType(), True), \n",
    "    StructField(\"fee\", IntegerType(), True), \n",
    "])"
   ]
  },
  {
   "cell_type": "code",
   "execution_count": 10,
   "metadata": {},
   "outputs": [],
   "source": [
    "rdd =spark.sparkContext.parallelize([\n",
    "    (0, \"Amazing\", \"Datastacks\",\"https://www.data stax.com/\", 2015,6,14,7000), \n",
    "    (1, \"Amazing\", \"Cloudera\",\"https://www.cloudera.com/\",2010 ,8,29,9000),\n",
    "    (2,\"Great\", \"Hortonworks\",\"https://hortonworks.com/\",2012, 3,23,8000), \n",
    "    (3,\"Great\",\"MapR\",\"https://mapr.com/\",2013, 2,27,6000), \n",
    "    (4, \"Great\", \"OuickTechie\", \"http://quicktechie.com/cs/\",2008, 9,19,9000),\n",
    "    (5, \"Good\",\"Acreshell\",\"https://acmeshell.com\", 2004,11,18,10000), \n",
    "    (6, \"Awsome\", \"HadoopFXam\", \"http://www.hadoopexam.com /\",2012,3,22,4000),\n",
    "    (7,\"Amazing\", \"Databricks\",\"https://databricks.com\",2014, 7,30,30000)\n",
    "])"
   ]
  },
  {
   "cell_type": "code",
   "execution_count": 12,
   "metadata": {},
   "outputs": [
    {
     "name": "stdout",
     "output_type": "stream",
     "text": [
      "+---+-------+-----------+--------------------+----+-----+---+-----+\n",
      "| sr| phrase|      title|                 url|year|month|day|  fee|\n",
      "+---+-------+-----------+--------------------+----+-----+---+-----+\n",
      "|  0|Amazing| Datastacks|https://www.data ...|2015|    6| 14| 7000|\n",
      "|  1|Amazing|   Cloudera|https://www.cloud...|2010|    8| 29| 9000|\n",
      "|  2|  Great|Hortonworks|https://hortonwor...|2012|    3| 23| 8000|\n",
      "|  3|  Great|       MapR|   https://mapr.com/|2013|    2| 27| 6000|\n",
      "|  4|  Great|OuickTechie|http://quicktechi...|2008|    9| 19| 9000|\n",
      "|  5|   Good|  Acreshell|https://acmeshell...|2004|   11| 18|10000|\n",
      "|  6| Awsome| HadoopFXam|http://www.hadoop...|2012|    3| 22| 4000|\n",
      "|  7|Amazing| Databricks|https://databrick...|2014|    7| 30|30000|\n",
      "+---+-------+-----------+--------------------+----+-----+---+-----+\n",
      "\n"
     ]
    }
   ],
   "source": [
    "df = spark.createDataFrame(rdd, schema)\n",
    "df.show()"
   ]
  },
  {
   "cell_type": "code",
   "execution_count": 14,
   "metadata": {},
   "outputs": [],
   "source": [
    "from pyspark.sql.functions import desc"
   ]
  },
  {
   "cell_type": "code",
   "execution_count": 15,
   "metadata": {},
   "outputs": [
    {
     "data": {
      "text/plain": [
       "[Row(fee=9000, count=2),\n",
       " Row(fee=8000, count=1),\n",
       " Row(fee=30000, count=1),\n",
       " Row(fee=6000, count=1),\n",
       " Row(fee=4000, count=1)]"
      ]
     },
     "execution_count": 15,
     "metadata": {},
     "output_type": "execute_result"
    }
   ],
   "source": [
    "quuickTechieDF = df.groupBy(\"fee\") \n",
    "quuickTechieCountDF = quuickTechieDF.count() \n",
    "quuickTechieCountDFSorted= quuickTechieCountDF.sort(desc(\"count\")) \n",
    "quuickTechieTop5Fee=quuickTechieCountDFSorted.take(5)\n",
    "quuickTechieTop5Fee"
   ]
  },
  {
   "cell_type": "code",
   "execution_count": 16,
   "metadata": {},
   "outputs": [],
   "source": [
    "quuickTechieCountDFSorted.write.format(\"json\").mode(\"overWrite\").save(\"data/dataset1\")"
   ]
  }
 ],
 "metadata": {
  "kernelspec": {
   "display_name": "Python 3",
   "language": "python",
   "name": "python3"
  },
  "language_info": {
   "codemirror_mode": {
    "name": "ipython",
    "version": 3
   },
   "file_extension": ".py",
   "mimetype": "text/x-python",
   "name": "python",
   "nbconvert_exporter": "python",
   "pygments_lexer": "ipython3",
   "version": "3.6.9"
  }
 },
 "nbformat": 4,
 "nbformat_minor": 4
}
