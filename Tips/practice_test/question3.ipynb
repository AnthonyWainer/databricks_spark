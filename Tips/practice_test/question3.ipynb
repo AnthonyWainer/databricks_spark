{
 "cells": [
  {
   "cell_type": "code",
   "execution_count": 1,
   "metadata": {},
   "outputs": [],
   "source": [
    "from pyspark.sql import SparkSession, Row"
   ]
  },
  {
   "cell_type": "code",
   "execution_count": 2,
   "metadata": {},
   "outputs": [],
   "source": [
    "spark = SparkSession.builder.appName(\"test\").master(\"local[*]\").getOrCreate()"
   ]
  },
  {
   "cell_type": "code",
   "execution_count": 4,
   "metadata": {},
   "outputs": [
    {
     "name": "stdout",
     "output_type": "stream",
     "text": [
      "+---+---------------+-----------+--------------------+------------+-------------+-----------+\n",
      "| sr|platform_phrase|      title|                 url|release_year|release_month|release_day|\n",
      "+---+---------------+-----------+--------------------+------------+-------------+-----------+\n",
      "|  0|        Amazing| Datastacks|https://www.datas...|        2015|            6|       14.0|\n",
      "|  1|        Amazing|   Cloudera|https://www.cloud...|        2010|            8|       29.0|\n",
      "|  2|          Great|Hortonworks|https://hortonwor...|        2012|            3|       23.0|\n",
      "|  3|          Great|       MapR|   https://mapr.com/|        2013|            2|       27.0|\n",
      "|  4|          Great|QuickTechie|http://quicktechi...|        2008|            9|       19.0|\n",
      "|  5|           Good|  Acmeshell|https://acmeshell...|        2004|           11|       18.0|\n",
      "|  6|         Awsome| HadoopFXam|http://www.hadoop...|        2012|            3|       22.0|\n",
      "|  7|        Amazing| Databricks|https://databrick...|        2014|            7|       30.0|\n",
      "+---+---------------+-----------+--------------------+------------+-------------+-----------+\n",
      "\n"
     ]
    }
   ],
   "source": [
    "df = spark.read.format(\"csv\").option(\"inferSchema\", True).option(\"header\", True).load(\"data/question3.txt\")\n",
    "df.show()"
   ]
  },
  {
   "cell_type": "code",
   "execution_count": 6,
   "metadata": {},
   "outputs": [
    {
     "name": "stdout",
     "output_type": "stream",
     "text": [
      "+------------+-----------+\n",
      "|release_year|      title|\n",
      "+------------+-----------+\n",
      "|        2015| Datastacks|\n",
      "|        2010|   Cloudera|\n",
      "|        2012|Hortonworks|\n",
      "|        2013|       MapR|\n",
      "|        2008|QuickTechie|\n",
      "|        2004|  Acmeshell|\n",
      "|        2012| HadoopFXam|\n",
      "|        2014| Databricks|\n",
      "+------------+-----------+\n",
      "\n"
     ]
    }
   ],
   "source": [
    "df2 = df.select(\"release_year\", \"title\")\n",
    "df2.show()"
   ]
  },
  {
   "cell_type": "code",
   "execution_count": 7,
   "metadata": {},
   "outputs": [],
   "source": [
    "#group by year and show the first elements\n",
    "from pyspark.sql.functions import first"
   ]
  },
  {
   "cell_type": "code",
   "execution_count": 8,
   "metadata": {},
   "outputs": [
    {
     "name": "stdout",
     "output_type": "stream",
     "text": [
      "+------------+-------------+\n",
      "|release_year|first_element|\n",
      "+------------+-------------+\n",
      "|        2015|   Datastacks|\n",
      "|        2013|         MapR|\n",
      "|        2014|   Databricks|\n",
      "|        2004|    Acmeshell|\n",
      "|        2012|  Hortonworks|\n",
      "|        2010|     Cloudera|\n",
      "|        2008|  QuickTechie|\n",
      "+------------+-------------+\n",
      "\n"
     ]
    }
   ],
   "source": [
    "df2.groupBy(\"release_year\").agg(first(\"title\").alias(\"first_element\")).show()"
   ]
  },
  {
   "cell_type": "code",
   "execution_count": 9,
   "metadata": {},
   "outputs": [
    {
     "name": "stdout",
     "output_type": "stream",
     "text": [
      "+------------+------------+\n",
      "|release_year|first(title)|\n",
      "+------------+------------+\n",
      "|        2015|  Datastacks|\n",
      "|        2013|        MapR|\n",
      "|        2014|  Databricks|\n",
      "|        2004|   Acmeshell|\n",
      "|        2012| Hortonworks|\n",
      "|        2010|    Cloudera|\n",
      "|        2008| QuickTechie|\n",
      "+------------+------------+\n",
      "\n"
     ]
    }
   ],
   "source": [
    "df2.groupBy(\"release_year\").agg({\"title\": \"first\"}).show()"
   ]
  }
 ],
 "metadata": {
  "kernelspec": {
   "display_name": "Python 3",
   "language": "python",
   "name": "python3"
  },
  "language_info": {
   "codemirror_mode": {
    "name": "ipython",
    "version": 3
   },
   "file_extension": ".py",
   "mimetype": "text/x-python",
   "name": "python",
   "nbconvert_exporter": "python",
   "pygments_lexer": "ipython3",
   "version": "3.6.9"
  }
 },
 "nbformat": 4,
 "nbformat_minor": 4
}
