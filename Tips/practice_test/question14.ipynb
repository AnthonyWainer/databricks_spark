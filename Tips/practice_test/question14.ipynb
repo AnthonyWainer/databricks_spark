{
 "cells": [
  {
   "cell_type": "code",
   "execution_count": 1,
   "metadata": {},
   "outputs": [],
   "source": [
    "from pyspark.sql import SparkSession, Row"
   ]
  },
  {
   "cell_type": "code",
   "execution_count": 2,
   "metadata": {},
   "outputs": [],
   "source": [
    "spark = SparkSession.builder.appName(\"test\").master(\"local[*]\").getOrCreate()"
   ]
  },
  {
   "cell_type": "code",
   "execution_count": 6,
   "metadata": {},
   "outputs": [
    {
     "name": "stdout",
     "output_type": "stream",
     "text": [
      "+------+---------+---------------+-------------+--------------+---------------+-----------+------------+-----+\n",
      "|TripID| Duration|      StartDate| StartStation| StartTerminal|        EndDate| EndStation| EndTerminal| Bike|\n",
      "+------+---------+---------------+-------------+--------------+---------------+-----------+------------+-----+\n",
      "|   100|      101|3/31/2018 06:00|       Mumbai|            50|3/31/2018 13:00|       Pune|        70.0| 8708|\n",
      "+------+---------+---------------+-------------+--------------+---------------+-----------+------------+-----+\n",
      "\n"
     ]
    }
   ],
   "source": [
    "trip = spark.read.option(\"header\", True).option(\"inferSchema\",True).csv(\"data/trip.csv\")\n",
    "trip.show()"
   ]
  },
  {
   "cell_type": "code",
   "execution_count": 7,
   "metadata": {},
   "outputs": [
    {
     "name": "stdout",
     "output_type": "stream",
     "text": [
      "root\n",
      " |-- TripID: integer (nullable = true)\n",
      " |--  Duration: integer (nullable = true)\n",
      " |--  StartDate: string (nullable = true)\n",
      " |--  StartStation: string (nullable = true)\n",
      " |--  StartTerminal: integer (nullable = true)\n",
      " |--  EndDate: string (nullable = true)\n",
      " |--  EndStation: string (nullable = true)\n",
      " |--  EndTerminal: double (nullable = true)\n",
      " |--  Bike: integer (nullable = true)\n",
      "\n"
     ]
    }
   ],
   "source": [
    "trip.printSchema()"
   ]
  },
  {
   "cell_type": "code",
   "execution_count": 9,
   "metadata": {},
   "outputs": [
    {
     "name": "stdout",
     "output_type": "stream",
     "text": [
      "+----------+------+------+-------+----------+-------------------+--------------+\n",
      "|station_id|  name|   lat|   long| dockcount|           landmark| installation |\n",
      "+----------+------+------+-------+----------+-------------------+--------------+\n",
      "|      1001|Mumbai|19.076|72.8777|        27|Opp Bandra Terminus|    01/01/2018|\n",
      "+----------+------+------+-------+----------+-------------------+--------------+\n",
      "\n",
      "root\n",
      " |-- station_id: integer (nullable = true)\n",
      " |--  name: string (nullable = true)\n",
      " |--  lat: double (nullable = true)\n",
      " |--  long: double (nullable = true)\n",
      " |--  dockcount: integer (nullable = true)\n",
      " |--  landmark: string (nullable = true)\n",
      " |--  installation : string (nullable = true)\n",
      "\n"
     ]
    }
   ],
   "source": [
    "station = spark.read.option(\"header\", True).option(\"inferSchema\",True).csv(\"data/station.csv\")\n",
    "station.show()\n",
    "station.printSchema()"
   ]
  }
 ],
 "metadata": {
  "kernelspec": {
   "display_name": "Python 3",
   "language": "python",
   "name": "python3"
  },
  "language_info": {
   "codemirror_mode": {
    "name": "ipython",
    "version": 3
   },
   "file_extension": ".py",
   "mimetype": "text/x-python",
   "name": "python",
   "nbconvert_exporter": "python",
   "pygments_lexer": "ipython3",
   "version": "3.6.9"
  }
 },
 "nbformat": 4,
 "nbformat_minor": 4
}
