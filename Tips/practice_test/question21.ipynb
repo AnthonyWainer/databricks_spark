{
 "cells": [
  {
   "cell_type": "code",
   "execution_count": 2,
   "metadata": {},
   "outputs": [],
   "source": [
    "from pyspark.sql import SparkSession, Row"
   ]
  },
  {
   "cell_type": "code",
   "execution_count": 3,
   "metadata": {},
   "outputs": [],
   "source": [
    "spark = SparkSession.builder.appName(\"test\").master(\"local[*]\").getOrCreate()"
   ]
  },
  {
   "cell_type": "code",
   "execution_count": 8,
   "metadata": {},
   "outputs": [
    {
     "name": "stdout",
     "output_type": "stream",
     "text": [
      "+------+---------+------------+-----------------+\n",
      "|  name|examscore|      Label1|          Label2 |\n",
      "+------+---------+------------+-----------------+\n",
      "|  Amit|     23.0| 'Excellent'|      'Promoted\" |\n",
      "|Rakesh|      2.0|     \"Worst'| 'Ask to Repeat' |\n",
      "|  Amit|     10.0|   'Average'| 'Ask to Repeat' |\n",
      "| Rohit|      5.0|     \"Worst'| 'Ask to Repeat' |\n",
      "|Rakesh|      6.0|   'Average'| 'Ask to Repeat' |\n",
      "| Rohit|     50.0| 'Excellent'|       'Promoted\"|\n",
      "+------+---------+------------+-----------------+\n",
      "\n"
     ]
    }
   ],
   "source": [
    "df = spark.read.option(\"header\", True).option(\"inferSchema\",True).csv(\"data/question21.csv\")\n",
    "df.show()"
   ]
  },
  {
   "cell_type": "code",
   "execution_count": 19,
   "metadata": {},
   "outputs": [],
   "source": [
    "from pyspark.sql.functions import max, col"
   ]
  },
  {
   "cell_type": "code",
   "execution_count": 22,
   "metadata": {},
   "outputs": [
    {
     "name": "stdout",
     "output_type": "stream",
     "text": [
      "+------+---------+\n",
      "|  name|examscore|\n",
      "+------+---------+\n",
      "|Rakesh|      6.0|\n",
      "| Rohit|     50.0|\n",
      "|  Amit|     23.0|\n",
      "+------+---------+\n",
      "\n"
     ]
    }
   ],
   "source": [
    "group = df.groupBy(\"name\").agg(max(\"examscore\").alias(\"examscore\"))\n",
    "group.show()"
   ]
  },
  {
   "cell_type": "code",
   "execution_count": 23,
   "metadata": {},
   "outputs": [
    {
     "name": "stdout",
     "output_type": "stream",
     "text": [
      "+------+---------+------------+-----------------+\n",
      "|  name|examscore|      Label1|          Label2 |\n",
      "+------+---------+------------+-----------------+\n",
      "|  Amit|     23.0| 'Excellent'|      'Promoted\" |\n",
      "|Rakesh|      6.0|   'Average'| 'Ask to Repeat' |\n",
      "| Rohit|     50.0| 'Excellent'|       'Promoted\"|\n",
      "+------+---------+------------+-----------------+\n",
      "\n"
     ]
    }
   ],
   "source": [
    "df.join(group, [\"name\", \"examscore\"]).show()"
   ]
  }
 ],
 "metadata": {
  "kernelspec": {
   "display_name": "Python 3",
   "language": "python",
   "name": "python3"
  },
  "language_info": {
   "codemirror_mode": {
    "name": "ipython",
    "version": 3
   },
   "file_extension": ".py",
   "mimetype": "text/x-python",
   "name": "python",
   "nbconvert_exporter": "python",
   "pygments_lexer": "ipython3",
   "version": "3.6.9"
  }
 },
 "nbformat": 4,
 "nbformat_minor": 4
}
