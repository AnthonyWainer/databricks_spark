{
 "cells": [
  {
   "cell_type": "code",
   "execution_count": 1,
   "metadata": {},
   "outputs": [],
   "source": [
    "from pyspark.sql import SparkSession, Row"
   ]
  },
  {
   "cell_type": "code",
   "execution_count": 2,
   "metadata": {},
   "outputs": [],
   "source": [
    "spark = SparkSession.builder.appName(\"test\").master(\"local[*]\").getOrCreate()"
   ]
  },
  {
   "cell_type": "code",
   "execution_count": 3,
   "metadata": {},
   "outputs": [
    {
     "data": {
      "text/plain": [
       "[(1, 'HE:'),\n",
       " (2, 'HE:HE:'),\n",
       " (3, 'HE:HE:HE:'),\n",
       " (4, 'HE:HE:HE:HE:'),\n",
       " (5, 'HE:HE:HE:HE:HE:'),\n",
       " (6, 'HE:HE:HE:HE:HE:HE:'),\n",
       " (7, 'HE:HE:HE:HE:HE:HE:HE:'),\n",
       " (8, 'HE:HE:HE:HE:HE:HE:HE:HE:'),\n",
       " (9, 'HE:HE:HE:HE:HE:HE:HE:HE:HE:')]"
      ]
     },
     "execution_count": 3,
     "metadata": {},
     "output_type": "execute_result"
    }
   ],
   "source": [
    "rdd = spark.sparkContext.parallelize(range(1,10)).map(lambda x: (x, \"HE:\" * x)) \n",
    "rdd.collect()"
   ]
  },
  {
   "cell_type": "code",
   "execution_count": 39,
   "metadata": {},
   "outputs": [
    {
     "data": {
      "text/plain": [
       "[(1, 'HE:'),\n",
       " (2, 'HE:HE:'),\n",
       " (3, 'HE:HE:HE:'),\n",
       " (4, 'HE:HE:HE:HE:'),\n",
       " (5, 'HE:HE:HE:HE:HE:'),\n",
       " (6, 'HE:HE:HE:HE:HE:HE:'),\n",
       " (7, 'HE:HE:HE:HE:HE:HE:HE:'),\n",
       " (8, 'HE:HE:HE:HE:HE:HE:HE:HE:'),\n",
       " (9, 'HE:HE:HE:HE:HE:HE:HE:HE:HE:')]"
      ]
     },
     "execution_count": 39,
     "metadata": {},
     "output_type": "execute_result"
    }
   ],
   "source": [
    "spark.createDataFrame(rdd).select(\"_1\",\"_2\").rdd.map(lambda x: (x[\"_1\"], x[\"_2\"])).collect()"
   ]
  },
  {
   "cell_type": "code",
   "execution_count": 30,
   "metadata": {},
   "outputs": [
    {
     "data": {
      "text/plain": [
       "[(1, 'HE:'),\n",
       " (2, 'HE:HE:'),\n",
       " (3, 'HE:HE:HE:'),\n",
       " (4, 'HE:HE:HE:HE:'),\n",
       " (5, 'HE:HE:HE:HE:HE:'),\n",
       " (6, 'HE:HE:HE:HE:HE:HE:'),\n",
       " (7, 'HE:HE:HE:HE:HE:HE:HE:'),\n",
       " (8, 'HE:HE:HE:HE:HE:HE:HE:HE:'),\n",
       " (9, 'HE:HE:HE:HE:HE:HE:HE:HE:HE:')]"
      ]
     },
     "execution_count": 30,
     "metadata": {},
     "output_type": "execute_result"
    }
   ],
   "source": [
    "rdd.saveAsSequenceFile(\"data/hecourse1\") \n",
    "sorted(spark.sparkContext.sequenceFile(\"data/hecourse1\").collect())"
   ]
  }
 ],
 "metadata": {
  "kernelspec": {
   "display_name": "Python 3",
   "language": "python",
   "name": "python3"
  },
  "language_info": {
   "codemirror_mode": {
    "name": "ipython",
    "version": 3
   },
   "file_extension": ".py",
   "mimetype": "text/x-python",
   "name": "python",
   "nbconvert_exporter": "python",
   "pygments_lexer": "ipython3",
   "version": "3.6.9"
  }
 },
 "nbformat": 4,
 "nbformat_minor": 4
}
