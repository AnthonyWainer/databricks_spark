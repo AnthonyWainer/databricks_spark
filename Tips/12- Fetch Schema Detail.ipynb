{
 "cells": [
  {
   "cell_type": "code",
   "execution_count": 1,
   "metadata": {},
   "outputs": [],
   "source": [
    "from pyspark.sql import Row, SparkSession"
   ]
  },
  {
   "cell_type": "code",
   "execution_count": 2,
   "metadata": {},
   "outputs": [],
   "source": [
    "spark = SparkSession.builder.appName(\"test\").master(\"local[*]\").getOrCreate()"
   ]
  },
  {
   "cell_type": "code",
   "execution_count": 3,
   "metadata": {},
   "outputs": [],
   "source": [
    "RowHeader = Row(\"id\" , \"name\" , \"fee\", \"venue\" , \"duration\" )"
   ]
  },
  {
   "cell_type": "code",
   "execution_count": 5,
   "metadata": {},
   "outputs": [],
   "source": [
    "#Create an RDD with 5 \n",
    "courseRDD = spark.sparkContext.parallelize(\n",
    "[RowHeader(1, \"Hadoop\", 6000, \"Lima\", 5),\n",
    " RowHeader(2, \"Spark\", 5000, \"Puno\", 4),\n",
    " RowHeader(3, \"Python\", 4000, \"Ayacucho\", 3),\n",
    " RowHeader(4, \"Scala\", 4000, \"Cuzco\", 3),\n",
    " RowHeader(5, \"HBase\", 7000, \"Cajamarca\", 7)])"
   ]
  },
  {
   "cell_type": "code",
   "execution_count": 7,
   "metadata": {},
   "outputs": [
    {
     "name": "stdout",
     "output_type": "stream",
     "text": [
      "+---+------+----+---------+--------+\n",
      "| id|  name| fee|    venue|duration|\n",
      "+---+------+----+---------+--------+\n",
      "|  1|Hadoop|6000|     Lima|       5|\n",
      "|  2| Spark|5000|     Puno|       4|\n",
      "|  3|Python|4000| Ayacucho|       3|\n",
      "|  4| Scala|4000|    Cuzco|       3|\n",
      "|  5| HBase|7000|Cajamarca|       7|\n",
      "+---+------+----+---------+--------+\n",
      "\n"
     ]
    }
   ],
   "source": [
    "courseDF = courseRDD.toDF()\n",
    "courseDF.show()"
   ]
  },
  {
   "cell_type": "code",
   "execution_count": 8,
   "metadata": {},
   "outputs": [
    {
     "data": {
      "text/plain": [
       "[StructField(id,LongType,true),\n",
       " StructField(name,StringType,true),\n",
       " StructField(fee,LongType,true),\n",
       " StructField(venue,StringType,true),\n",
       " StructField(duration,LongType,true)]"
      ]
     },
     "execution_count": 8,
     "metadata": {},
     "output_type": "execute_result"
    }
   ],
   "source": [
    "courseDF.schema.fields"
   ]
  },
  {
   "cell_type": "code",
   "execution_count": 10,
   "metadata": {},
   "outputs": [
    {
     "data": {
      "text/plain": [
       "<bound method StructType.simpleString of StructType(List(StructField(id,LongType,true),StructField(name,StringType,true),StructField(fee,LongType,true),StructField(venue,StringType,true),StructField(duration,LongType,true)))>"
      ]
     },
     "execution_count": 10,
     "metadata": {},
     "output_type": "execute_result"
    }
   ],
   "source": [
    "courseDF.schema.simpleString"
   ]
  },
  {
   "cell_type": "code",
   "execution_count": 12,
   "metadata": {},
   "outputs": [
    {
     "data": {
      "text/plain": [
       "['id', 'name', 'fee', 'venue', 'duration']"
      ]
     },
     "execution_count": 12,
     "metadata": {},
     "output_type": "execute_result"
    }
   ],
   "source": [
    "courseDF.schema.fieldNames()"
   ]
  },
  {
   "cell_type": "code",
   "execution_count": 13,
   "metadata": {},
   "outputs": [
    {
     "data": {
      "text/plain": [
       "'{\"fields\":[{\"metadata\":{},\"name\":\"id\",\"nullable\":true,\"type\":\"long\"},{\"metadata\":{},\"name\":\"name\",\"nullable\":true,\"type\":\"string\"},{\"metadata\":{},\"name\":\"fee\",\"nullable\":true,\"type\":\"long\"},{\"metadata\":{},\"name\":\"venue\",\"nullable\":true,\"type\":\"string\"},{\"metadata\":{},\"name\":\"duration\",\"nullable\":true,\"type\":\"long\"}],\"type\":\"struct\"}'"
      ]
     },
     "execution_count": 13,
     "metadata": {},
     "output_type": "execute_result"
    }
   ],
   "source": [
    "courseDF.schema.json()"
   ]
  }
 ],
 "metadata": {
  "kernelspec": {
   "display_name": "Python 3",
   "language": "python",
   "name": "python3"
  },
  "language_info": {
   "codemirror_mode": {
    "name": "ipython",
    "version": 3
   },
   "file_extension": ".py",
   "mimetype": "text/x-python",
   "name": "python",
   "nbconvert_exporter": "python",
   "pygments_lexer": "ipython3",
   "version": "3.6.8"
  }
 },
 "nbformat": 4,
 "nbformat_minor": 4
}
