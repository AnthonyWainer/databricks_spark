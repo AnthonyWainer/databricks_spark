{
 "cells": [
  {
   "cell_type": "code",
   "execution_count": 3,
   "metadata": {},
   "outputs": [],
   "source": [
    "from pyspark.sql import SparkSession"
   ]
  },
  {
   "cell_type": "code",
   "execution_count": 4,
   "metadata": {},
   "outputs": [],
   "source": [
    "spark = SparkSession.builder.appName(\"test\").master(\"local[*]\").getOrCreate()"
   ]
  },
  {
   "cell_type": "code",
   "execution_count": 7,
   "metadata": {},
   "outputs": [],
   "source": [
    "data = [(\"Python\", 8999),\n",
    "        (\"Scala\", 2929)]\n",
    "\n",
    "df = spark.createDataFrame(data).toDF(\"Language\", \"Fee\")"
   ]
  },
  {
   "cell_type": "code",
   "execution_count": 8,
   "metadata": {},
   "outputs": [
    {
     "name": "stdout",
     "output_type": "stream",
     "text": [
      "+--------+----+\n",
      "|Language| Fee|\n",
      "+--------+----+\n",
      "|  Python|8999|\n",
      "|   Scala|2929|\n",
      "+--------+----+\n",
      "\n"
     ]
    }
   ],
   "source": [
    "df.show()"
   ]
  },
  {
   "cell_type": "code",
   "execution_count": 9,
   "metadata": {},
   "outputs": [],
   "source": [
    "df.write.mode(\"overwrite\").parquet(\"tmp/test/key=1\")"
   ]
  },
  {
   "cell_type": "code",
   "execution_count": 10,
   "metadata": {},
   "outputs": [],
   "source": [
    "data = [\n",
    "    (\"Java\", 9219, \"Peru\"),\n",
    "    (\"Cobol\", 9999, \"EEUU\")\n",
    "]\n",
    "df2 = spark.createDataFrame(data).toDF(\"Language\", \"Fee\", \"Country\")"
   ]
  },
  {
   "cell_type": "code",
   "execution_count": 11,
   "metadata": {},
   "outputs": [
    {
     "name": "stdout",
     "output_type": "stream",
     "text": [
      "+--------+----+-------+\n",
      "|Language| Fee|Country|\n",
      "+--------+----+-------+\n",
      "|    Java|9219|   Peru|\n",
      "|   Cobol|9999|   EEUU|\n",
      "+--------+----+-------+\n",
      "\n"
     ]
    }
   ],
   "source": [
    "df2.show()"
   ]
  },
  {
   "cell_type": "code",
   "execution_count": 12,
   "metadata": {},
   "outputs": [],
   "source": [
    "df2.write.mode(\"overwrite\").parquet(\"tmp/test/key=2\")"
   ]
  },
  {
   "cell_type": "code",
   "execution_count": 14,
   "metadata": {},
   "outputs": [],
   "source": [
    "data = [\n",
    "    (\"C\", 123123, \"Colombia\", \"Anthony\"),\n",
    "    (\"R\", 81283, \"UK\", \"Lia\")\n",
    "]\n",
    "df3 = spark.createDataFrame(data).toDF(\"Language\", \"Fee\", \"Country\", \"Trainer\")"
   ]
  },
  {
   "cell_type": "code",
   "execution_count": 15,
   "metadata": {},
   "outputs": [
    {
     "name": "stdout",
     "output_type": "stream",
     "text": [
      "+--------+------+--------+-------+\n",
      "|Language|   Fee| Country|Trainer|\n",
      "+--------+------+--------+-------+\n",
      "|       C|123123|Colombia|Anthony|\n",
      "|       R| 81283|      UK|    Lia|\n",
      "+--------+------+--------+-------+\n",
      "\n"
     ]
    }
   ],
   "source": [
    "df3.show()"
   ]
  },
  {
   "cell_type": "code",
   "execution_count": 16,
   "metadata": {},
   "outputs": [],
   "source": [
    "df3.write.mode(\"overwrite\").parquet(\"tmp/test/key=3\")"
   ]
  },
  {
   "cell_type": "code",
   "execution_count": 17,
   "metadata": {},
   "outputs": [],
   "source": [
    "data = [\n",
    "    (\"Javascript\",9332, \"Wainer\"),\n",
    "    (\"Switf\", 912931, \"Deybi\")\n",
    "]\n",
    "df4 = spark.createDataFrame(data).toDF(\"Language\", \"Fee\", \"Trainer\")"
   ]
  },
  {
   "cell_type": "code",
   "execution_count": 18,
   "metadata": {},
   "outputs": [
    {
     "name": "stdout",
     "output_type": "stream",
     "text": [
      "+----------+------+-------+\n",
      "|  Language|   Fee|Trainer|\n",
      "+----------+------+-------+\n",
      "|Javascript|  9332| Wainer|\n",
      "|     Switf|912931|  Deybi|\n",
      "+----------+------+-------+\n",
      "\n"
     ]
    }
   ],
   "source": [
    "df4.show()"
   ]
  },
  {
   "cell_type": "code",
   "execution_count": 20,
   "metadata": {},
   "outputs": [],
   "source": [
    "df4.write.mode(\"overwrite\").parquet(\"tmp/test/key=4\")"
   ]
  },
  {
   "cell_type": "code",
   "execution_count": 21,
   "metadata": {},
   "outputs": [],
   "source": [
    "dfResult = spark.read.option(\"mergeSchema\", True).parquet(\"tmp/test\")"
   ]
  },
  {
   "cell_type": "code",
   "execution_count": 22,
   "metadata": {},
   "outputs": [
    {
     "name": "stdout",
     "output_type": "stream",
     "text": [
      "+----------+------+--------+-------+---+\n",
      "|  Language|   Fee| Country|Trainer|key|\n",
      "+----------+------+--------+-------+---+\n",
      "|         C|123123|Colombia|Anthony|  3|\n",
      "|         R| 81283|      UK|    Lia|  3|\n",
      "|Javascript|  9332|    null| Wainer|  4|\n",
      "|     Switf|912931|    null|  Deybi|  4|\n",
      "|     Cobol|  9999|    EEUU|   null|  2|\n",
      "|      Java|  9219|    Peru|   null|  2|\n",
      "|    Python|  8999|    null|   null|  1|\n",
      "|     Scala|  2929|    null|   null|  1|\n",
      "+----------+------+--------+-------+---+\n",
      "\n"
     ]
    }
   ],
   "source": [
    "dfResult.show()"
   ]
  },
  {
   "cell_type": "code",
   "execution_count": 23,
   "metadata": {},
   "outputs": [
    {
     "name": "stdout",
     "output_type": "stream",
     "text": [
      "root\n",
      " |-- Language: string (nullable = true)\n",
      " |-- Fee: long (nullable = true)\n",
      " |-- Country: string (nullable = true)\n",
      " |-- Trainer: string (nullable = true)\n",
      " |-- key: integer (nullable = true)\n",
      "\n"
     ]
    }
   ],
   "source": [
    "dfResult.printSchema()"
   ]
  }
 ],
 "metadata": {
  "kernelspec": {
   "display_name": "Python 3",
   "language": "python",
   "name": "python3"
  },
  "language_info": {
   "codemirror_mode": {
    "name": "ipython",
    "version": 3
   },
   "file_extension": ".py",
   "mimetype": "text/x-python",
   "name": "python",
   "nbconvert_exporter": "python",
   "pygments_lexer": "ipython3",
   "version": "3.6.8"
  }
 },
 "nbformat": 4,
 "nbformat_minor": 4
}
