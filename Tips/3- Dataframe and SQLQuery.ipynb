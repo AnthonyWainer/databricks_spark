{
 "cells": [
  {
   "cell_type": "code",
   "execution_count": 1,
   "metadata": {},
   "outputs": [],
   "source": [
    "from pyspark.sql import Row, SparkSession"
   ]
  },
  {
   "cell_type": "code",
   "execution_count": 6,
   "metadata": {},
   "outputs": [],
   "source": [
    "spark = SparkSession.builder.appName(\"local[*]\").getOrCreate()\n",
    "sc = spark.sparkContext"
   ]
  },
  {
   "cell_type": "code",
   "execution_count": 13,
   "metadata": {},
   "outputs": [],
   "source": [
    "row = [Row(1, \"apple\", 12345, \"fruit\", 3),\n",
    "        Row(2, \"strawberry\", 32439, \"fruit\", 1),\n",
    "        Row(3, \"Celery\", 766535, \"vegetable\", 4),\n",
    "        Row(4, \"potatoes\", 89733, \"vegetable\", 10)\n",
    "       ]"
   ]
  },
  {
   "cell_type": "code",
   "execution_count": 9,
   "metadata": {},
   "outputs": [],
   "source": [
    "from pyspark.sql.types import StructType, StructField, IntegerType, StringType"
   ]
  },
  {
   "cell_type": "code",
   "execution_count": 12,
   "metadata": {},
   "outputs": [],
   "source": [
    "schema = StructType([\n",
    "    StructField(\"id\", IntegerType(), True),\n",
    "    StructField(\"name\", StringType(), True),\n",
    "    StructField(\"number\", IntegerType(), True),\n",
    "    StructField(\"category\", StringType(), True),\n",
    "    StructField(\"price\", IntegerType(), True)\n",
    "    ]\n",
    ")"
   ]
  },
  {
   "cell_type": "code",
   "execution_count": 14,
   "metadata": {},
   "outputs": [],
   "source": [
    "data = sc.parallelize(row)"
   ]
  },
  {
   "cell_type": "code",
   "execution_count": 18,
   "metadata": {},
   "outputs": [
    {
     "name": "stdout",
     "output_type": "stream",
     "text": [
      "+---+----------+------+---------+-----+\n",
      "| id|      name|number| category|price|\n",
      "+---+----------+------+---------+-----+\n",
      "|  1|     apple| 12345|    fruit|    3|\n",
      "|  2|strawberry| 32439|    fruit|    1|\n",
      "|  3|    Celery|766535|vegetable|    4|\n",
      "|  4|  potatoes| 89733|vegetable|   10|\n",
      "+---+----------+------+---------+-----+\n",
      "\n"
     ]
    }
   ],
   "source": [
    "dataFrame = spark.createDataFrame(data, schema)\n",
    "dataFrame.show()"
   ]
  },
  {
   "cell_type": "markdown",
   "metadata": {},
   "source": [
    "## Convert RDD into DataFrame"
   ]
  },
  {
   "cell_type": "code",
   "execution_count": 17,
   "metadata": {},
   "outputs": [
    {
     "name": "stdout",
     "output_type": "stream",
     "text": [
      "+---+----------+------+---------+-----+\n",
      "| id|      name|number| category|price|\n",
      "+---+----------+------+---------+-----+\n",
      "|  1|     apple| 12345|    fruit|    3|\n",
      "|  2|strawberry| 32439|    fruit|    1|\n",
      "|  3|    Celery|766535|vegetable|    4|\n",
      "|  4|  potatoes| 89733|vegetable|   10|\n",
      "+---+----------+------+---------+-----+\n",
      "\n"
     ]
    }
   ],
   "source": [
    "data.toDF(schema).show()"
   ]
  },
  {
   "cell_type": "markdown",
   "metadata": {},
   "source": [
    "## Filter with Where DataFrame"
   ]
  },
  {
   "cell_type": "code",
   "execution_count": 34,
   "metadata": {},
   "outputs": [
    {
     "name": "stdout",
     "output_type": "stream",
     "text": [
      "+---+--------+------+---------+-----+\n",
      "| id|    name|number| category|price|\n",
      "+---+--------+------+---------+-----+\n",
      "|  3|  Celery|766535|vegetable|    4|\n",
      "|  4|potatoes| 89733|vegetable|   10|\n",
      "+---+--------+------+---------+-----+\n",
      "\n"
     ]
    }
   ],
   "source": [
    "dataFrame.where(\"price>=4\").where(\"category=='vegetable'\").show()"
   ]
  },
  {
   "cell_type": "markdown",
   "metadata": {},
   "source": [
    "## Filter with SQL"
   ]
  },
  {
   "cell_type": "code",
   "execution_count": 25,
   "metadata": {},
   "outputs": [],
   "source": [
    "tmp_df = dataFrame.where(\"price>=4\").where(\"category=='vegetable'\")\n",
    "tmp_df.createOrReplaceTempView(\"T_TEMP\")"
   ]
  },
  {
   "cell_type": "code",
   "execution_count": 31,
   "metadata": {},
   "outputs": [],
   "source": [
    "filter_sql = spark.sql(\"SELECT * FROM T_TEMP WHERE price>=4 AND category ='vegetable'\")"
   ]
  },
  {
   "cell_type": "code",
   "execution_count": 32,
   "metadata": {},
   "outputs": [
    {
     "name": "stdout",
     "output_type": "stream",
     "text": [
      "+---+--------+------+---------+-----+\n",
      "| id|    name|number| category|price|\n",
      "+---+--------+------+---------+-----+\n",
      "|  3|  Celery|766535|vegetable|    4|\n",
      "|  4|potatoes| 89733|vegetable|   10|\n",
      "+---+--------+------+---------+-----+\n",
      "\n"
     ]
    }
   ],
   "source": [
    "filter_sql.show()"
   ]
  }
 ],
 "metadata": {
  "kernelspec": {
   "display_name": "Python 3",
   "language": "python",
   "name": "python3"
  },
  "language_info": {
   "codemirror_mode": {
    "name": "ipython",
    "version": 3
   },
   "file_extension": ".py",
   "mimetype": "text/x-python",
   "name": "python",
   "nbconvert_exporter": "python",
   "pygments_lexer": "ipython3",
   "version": "3.6.8"
  }
 },
 "nbformat": 4,
 "nbformat_minor": 4
}
